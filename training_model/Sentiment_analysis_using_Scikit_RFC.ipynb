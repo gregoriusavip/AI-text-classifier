{
  "cells": [
    {
      "cell_type": "markdown",
      "metadata": {
        "colab_type": "text",
        "id": "view-in-github"
      },
      "source": [
        "<a href=\"https://colab.research.google.com/github/gregoriusavip/AI-text-classifier/blob/data-cleansing/train_model/Sentiment_analysis_using_Scikit_RFC.ipynb\" target=\"_parent\"><img src=\"https://colab.research.google.com/assets/colab-badge.svg\" alt=\"Open In Colab\"/></a>"
      ]
    },
    {
      "cell_type": "code",
      "execution_count": null,
      "metadata": {
        "id": "lxbHZ43sV6bQ"
      },
      "outputs": [],
      "source": [
        "import re\n",
        "import numpy as np # linear algebra\n",
        "import pandas as pd # data processing, CSV file I/O (e.g. pd.read_csv)\n",
        "\n",
        "from sklearn.ensemble import RandomForestClassifier\n",
        "from sklearn.model_selection import train_test_split\n",
        "from sklearn.datasets import load_svmlight_file\n",
        "from sklearn.metrics import accuracy_score\n",
        "# function for transforming documents into counts\n",
        "from sklearn.feature_extraction.text import CountVectorizer\n",
        "# function for encoding categories\n",
        "from sklearn.preprocessing import LabelEncoder"
      ]
    },
    {
      "cell_type": "code",
      "execution_count": null,
      "metadata": {
        "id": "BW7spdjFRCb4"
      },
      "outputs": [],
      "source": [
        "train_data = pd.read_csv(\"/content/twitter_training.csv\")\n",
        "validate_data = pd.read_csv(\"/content/twitter_validation.csv\")"
      ]
    },
    {
      "cell_type": "code",
      "execution_count": null,
      "metadata": {
        "colab": {
          "base_uri": "https://localhost:8080/"
        },
        "id": "4okbm9vm_IxO",
        "outputId": "babc7527-8618-4867-f2e5-09edc979862b"
      },
      "outputs": [
        {
          "name": "stdout",
          "output_type": "stream",
          "text": [
            "id           0\n",
            "type         0\n",
            "sentiment    0\n",
            "text         0\n",
            "dtype: int64\n"
          ]
        }
      ],
      "source": [
        "#Check if there are null data\n",
        "print(train_data.isnull().sum())"
      ]
    },
    {
      "cell_type": "code",
      "execution_count": null,
      "metadata": {
        "colab": {
          "base_uri": "https://localhost:8080/"
        },
        "id": "SaRNQNdC_oW4",
        "outputId": "3a3995e0-6fc9-4eb4-948f-37dccb572a88"
      },
      "outputs": [
        {
          "name": "stdout",
          "output_type": "stream",
          "text": [
            "id           0\n",
            "type         0\n",
            "sentiment    0\n",
            "text         0\n",
            "dtype: int64\n"
          ]
        }
      ],
      "source": [
        "print(test_data.isnull().sum())"
      ]
    },
    {
      "cell_type": "code",
      "execution_count": null,
      "metadata": {
        "colab": {
          "base_uri": "https://localhost:8080/"
        },
        "id": "QeN7FysIA4uZ",
        "outputId": "1e485db9-0989-45b3-bc35-ac978eef5ff1"
      },
      "outputs": [
        {
          "name": "stdout",
          "output_type": "stream",
          "text": [
            "id           0\n",
            "type         0\n",
            "sentiment    0\n",
            "text         0\n",
            "dtype: int64\n"
          ]
        }
      ],
      "source": [
        "train_data = train_data.dropna()\n",
        "#Check if all null data removed\n",
        "print(train_data.isnull().sum())"
      ]
    },
    {
      "cell_type": "code",
      "execution_count": null,
      "metadata": {
        "colab": {
          "base_uri": "https://localhost:8080/"
        },
        "id": "LBSyYGZyTF9i",
        "outputId": "bd5c2080-f37a-457f-b125-9d457ab878f6"
      },
      "outputs": [
        {
          "name": "stdout",
          "output_type": "stream",
          "text": [
            "(73996, 31062)\n",
            "(73996,)\n",
            "(1000, 31062)\n",
            "(1000,)\n"
          ]
        }
      ],
      "source": [
        "# pull the data into vectors\n",
        "vectorizer = CountVectorizer()\n",
        "x_train = vectorizer.fit_transform(train_data['text'])\n",
        "x_test = vectorizer.transform(test_data['text'])\n",
        "\n",
        "encoder = LabelEncoder()\n",
        "y_train = encoder.fit_transform(train_data['sentiment'])\n",
        "y_test = encoder.transform(test_data['sentiment'])\n",
        "\n",
        "# take a look at the shape of each of these\n",
        "print(x_train.shape)\n",
        "print(y_train.shape)\n",
        "print(x_test.shape)\n",
        "print(y_test.shape)"
      ]
    },
    {
      "cell_type": "code",
      "execution_count": null,
      "metadata": {
        "id": "H_g1qb1wXb2z"
      },
      "outputs": [],
      "source": [
        "# create a Random Forest Classifier object\n",
        "rfc = RandomForestClassifier(n_estimators=100, n_jobs=-1, random_state=42)\n",
        "\n",
        "# fit the classifier to the training data\n",
        "rfc.fit(x_train, y_train)\n",
        "\n",
        "# make predictions on the test data\n",
        "y_pred = rfc.predict(x_test)"
      ]
    },
    {
      "cell_type": "code",
      "execution_count": null,
      "metadata": {
        "colab": {
          "base_uri": "https://localhost:8080/"
        },
        "id": "Yaa1gJZXXfEf",
        "outputId": "89367a70-339c-47c5-ff02-eaba5666968e"
      },
      "outputs": [
        {
          "name": "stdout",
          "output_type": "stream",
          "text": [
            "Accuracy: 0.968\n"
          ]
        }
      ],
      "source": [
        "# calculate the accuracy of the classifier\n",
        "accuracy = accuracy_score(y_test, y_pred)\n",
        "print(f\"Accuracy: {accuracy}\")"
      ]
    },
    {
      "cell_type": "code",
      "execution_count": null,
      "metadata": {
        "colab": {
          "base_uri": "https://localhost:8080/"
        },
        "id": "xi29OadWahzo",
        "outputId": "77cc254b-557d-41de-80ec-a5891a33fc2f"
      },
      "outputs": [
        {
          "name": "stdout",
          "output_type": "stream",
          "text": [
            "[1 3 0]\n"
          ]
        }
      ],
      "source": [
        "docs_new = [\"I hate you\", \"that was cool!\", \"I'm sorry\"]\n",
        "X_new_counts = vectorizer.transform(docs_new)\n",
        "predicted = rfc.predict(X_new_counts)\n",
        "\n",
        "print(predicted)"
      ]
    },
    {
      "cell_type": "code",
      "execution_count": null,
      "metadata": {
        "colab": {
          "base_uri": "https://localhost:8080/"
        },
        "id": "5kjd2_Hd1-lC",
        "outputId": "cc94c1c0-795d-466d-c5fb-d74d3b35ce1b"
      },
      "outputs": [
        {
          "name": "stdout",
          "output_type": "stream",
          "text": [
            "['Negative' 'Positive' 'Irrelevant']\n"
          ]
        }
      ],
      "source": [
        "predicted_categories = encoder.inverse_transform(predicted)\n",
        "print(predicted_categories)"
      ]
    },
    {
      "cell_type": "code",
      "execution_count": null,
      "metadata": {
        "id": "bQ3I4xF3D87M"
      },
      "outputs": [],
      "source": [
        "import joblib"
      ]
    },
    {
      "cell_type": "code",
      "execution_count": null,
      "metadata": {
        "colab": {
          "base_uri": "https://localhost:8080/"
        },
        "id": "WlZCOK25EBKm",
        "outputId": "8c2cbcd4-d822-4839-95a0-75ac9db86d02"
      },
      "outputs": [
        {
          "data": {
            "text/plain": [
              "['rfc_sentiment_model.joblib']"
            ]
          },
          "execution_count": 28,
          "metadata": {},
          "output_type": "execute_result"
        }
      ],
      "source": [
        "filename = 'rfc_sentiment_model.joblib'\n",
        "joblib.dump(rfc, filename)"
      ]
    },
    {
      "cell_type": "code",
      "execution_count": null,
      "metadata": {
        "colab": {
          "base_uri": "https://localhost:8080/"
        },
        "id": "J-Tqj_NyFEJX",
        "outputId": "7288be09-b196-4f08-9f0a-df91042d3c44"
      },
      "outputs": [
        {
          "name": "stdout",
          "output_type": "stream",
          "text": [
            "Drive already mounted at /content/drive; to attempt to forcibly remount, call drive.mount(\"/content/drive\", force_remount=True).\n"
          ]
        },
        {
          "data": {
            "text/plain": [
              "['/content/drive/My Drive/rfc_sentiment_model.joblib']"
            ]
          },
          "execution_count": 30,
          "metadata": {},
          "output_type": "execute_result"
        }
      ],
      "source": [
        "from google.colab import drive\n",
        "drive.mount('/content/drive')\n",
        "\n",
        "# save the model to Google Drive\n",
        "filename = '/content/drive/My Drive/rfc_sentiment_model.joblib'\n",
        "joblib.dump(rfc, filename)"
      ]
    },
    {
      "cell_type": "code",
      "execution_count": null,
      "metadata": {
        "colab": {
          "base_uri": "https://localhost:8080/"
        },
        "id": "u_55aG2JHnY0",
        "outputId": "3b91c25d-5c3c-4d71-b2ed-6fc3dbedb205"
      },
      "outputs": [
        {
          "data": {
            "text/plain": [
              "['/content/drive/My Drive/rfc_vectorizer.joblib']"
            ]
          },
          "execution_count": 31,
          "metadata": {},
          "output_type": "execute_result"
        }
      ],
      "source": [
        "filename = '/content/drive/My Drive/rfc_vectorizer.joblib'\n",
        "joblib.dump(vectorizer, filename)"
      ]
    },
    {
      "cell_type": "code",
      "execution_count": null,
      "metadata": {
        "colab": {
          "base_uri": "https://localhost:8080/"
        },
        "id": "JhYOUkL4HymV",
        "outputId": "6c090b69-017c-4128-f50f-f1fbbb51c876"
      },
      "outputs": [
        {
          "data": {
            "text/plain": [
              "['rfc_vectorizer.joblib']"
            ]
          },
          "execution_count": 32,
          "metadata": {},
          "output_type": "execute_result"
        }
      ],
      "source": [
        "filename = 'rfc_vectorizer.joblib'\n",
        "joblib.dump(vectorizer, filename)"
      ]
    },
    {
      "cell_type": "code",
      "execution_count": null,
      "metadata": {
        "colab": {
          "base_uri": "https://localhost:8080/"
        },
        "id": "jRJu0qHWH29M",
        "outputId": "73ac06ec-f2d7-4834-b142-57e369c77305"
      },
      "outputs": [
        {
          "data": {
            "text/plain": [
              "['/content/drive/My Drive/rfc_encoder.joblib']"
            ]
          },
          "execution_count": 33,
          "metadata": {},
          "output_type": "execute_result"
        }
      ],
      "source": [
        "filename = '/content/drive/My Drive/rfc_encoder.joblib'\n",
        "joblib.dump(encoder, filename)"
      ]
    },
    {
      "cell_type": "code",
      "execution_count": null,
      "metadata": {
        "colab": {
          "base_uri": "https://localhost:8080/"
        },
        "id": "jh1STFcCH_Nu",
        "outputId": "06af05f6-4e63-447d-f890-fd683d85d09d"
      },
      "outputs": [
        {
          "data": {
            "text/plain": [
              "['rfc_encoder.joblib']"
            ]
          },
          "execution_count": 34,
          "metadata": {},
          "output_type": "execute_result"
        }
      ],
      "source": [
        "filename = 'rfc_encoder.joblib'\n",
        "joblib.dump(encoder, filename)"
      ]
    }
  ],
  "metadata": {
    "colab": {
      "authorship_tag": "ABX9TyMEDUL4s61BGKcWKVgVPhWE",
      "include_colab_link": true,
      "mount_file_id": "164vZwcqT_DgDZN9C14JUSmbUvjv5ddep",
      "provenance": []
    },
    "kernelspec": {
      "display_name": "Python 3",
      "name": "python3"
    },
    "language_info": {
      "name": "python"
    }
  },
  "nbformat": 4,
  "nbformat_minor": 0
}
