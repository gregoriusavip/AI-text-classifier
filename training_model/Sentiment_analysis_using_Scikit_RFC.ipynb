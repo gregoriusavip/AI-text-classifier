{
  "cells": [
    {
      "cell_type": "code",
      "execution_count": 198,
      "metadata": {
        "id": "lxbHZ43sV6bQ",
        "colab": {
          "base_uri": "https://localhost:8080/"
        },
        "outputId": "1d68a03f-228b-4dcc-d6e4-877d28e8572e"
      },
      "outputs": [
        {
          "output_type": "stream",
          "name": "stderr",
          "text": [
            "[nltk_data] Downloading package punkt to /root/nltk_data...\n",
            "[nltk_data]   Package punkt is already up-to-date!\n"
          ]
        }
      ],
      "source": [
        "# Data Processing\n",
        "import re\n",
        "import numpy as np # linear algebra\n",
        "import pandas as pd # data processing\n",
        "import nltk\n",
        "from nltk import word_tokenize\n",
        "nltk.download('punkt')\n",
        "\n",
        "# Modelling\n",
        "from sklearn.naive_bayes import MultinomialNB\n",
        "from sklearn.ensemble import RandomForestClassifier\n",
        "from sklearn.metrics import accuracy_score, confusion_matrix, precision_score, recall_score, ConfusionMatrixDisplay\n",
        "from sklearn.model_selection import train_test_split\n",
        "from scipy.stats import randint\n",
        "# function for transforming documents into counts\n",
        "from sklearn.feature_extraction.text import CountVectorizer\n",
        "\n",
        "# Tree Visualisation\n",
        "from sklearn.tree import export_graphviz\n",
        "from IPython.display import Image\n",
        "import graphviz"
      ]
    },
    {
      "cell_type": "code",
      "execution_count": 120,
      "metadata": {
        "id": "BW7spdjFRCb4"
      },
      "outputs": [],
      "source": [
        "#get the csv file from github\n",
        "train_url = 'https://raw.githubusercontent.com/gregoriusavip/AI-text-classifier/data-cleansing/training_model/dataset/twitter_training.csv'\n",
        "validate_url = 'https://raw.githubusercontent.com/gregoriusavip/AI-text-classifier/data-cleansing/training_model/dataset/twitter_validation.csv'\n",
        "\n",
        "#or download the data and change the url to the files' path from https://www.kaggle.com/datasets/jp797498e/twitter-entity-sentiment-analysis\n",
        "\n",
        "#Since the data has no header, header set to None\n",
        "train = pd.read_csv(train_url, header = None)\n",
        "validate = pd.read_csv(validate_url, header = None)"
      ]
    },
    {
      "cell_type": "code",
      "execution_count": 121,
      "metadata": {
        "colab": {
          "base_uri": "https://localhost:8080/",
          "height": 206
        },
        "id": "SN_AL_U_7Fyz",
        "outputId": "47146aef-186e-4294-a391-26d5b21c06d5"
      },
      "outputs": [
        {
          "output_type": "execute_result",
          "data": {
            "text/plain": [
              "     id  information sentiment  \\\n",
              "0  2401  Borderlands  Positive   \n",
              "1  2401  Borderlands  Positive   \n",
              "2  2401  Borderlands  Positive   \n",
              "3  2401  Borderlands  Positive   \n",
              "4  2401  Borderlands  Positive   \n",
              "\n",
              "                                                text  \n",
              "0  im getting on borderlands and i will murder yo...  \n",
              "1  I am coming to the borders and I will kill you...  \n",
              "2  im getting on borderlands and i will kill you ...  \n",
              "3  im coming on borderlands and i will murder you...  \n",
              "4  im getting on borderlands 2 and i will murder ...  "
            ],
            "text/html": [
              "\n",
              "  <div id=\"df-4f644407-d46c-49ed-bce1-f6e85e7bfac2\" class=\"colab-df-container\">\n",
              "    <div>\n",
              "<style scoped>\n",
              "    .dataframe tbody tr th:only-of-type {\n",
              "        vertical-align: middle;\n",
              "    }\n",
              "\n",
              "    .dataframe tbody tr th {\n",
              "        vertical-align: top;\n",
              "    }\n",
              "\n",
              "    .dataframe thead th {\n",
              "        text-align: right;\n",
              "    }\n",
              "</style>\n",
              "<table border=\"1\" class=\"dataframe\">\n",
              "  <thead>\n",
              "    <tr style=\"text-align: right;\">\n",
              "      <th></th>\n",
              "      <th>id</th>\n",
              "      <th>information</th>\n",
              "      <th>sentiment</th>\n",
              "      <th>text</th>\n",
              "    </tr>\n",
              "  </thead>\n",
              "  <tbody>\n",
              "    <tr>\n",
              "      <th>0</th>\n",
              "      <td>2401</td>\n",
              "      <td>Borderlands</td>\n",
              "      <td>Positive</td>\n",
              "      <td>im getting on borderlands and i will murder yo...</td>\n",
              "    </tr>\n",
              "    <tr>\n",
              "      <th>1</th>\n",
              "      <td>2401</td>\n",
              "      <td>Borderlands</td>\n",
              "      <td>Positive</td>\n",
              "      <td>I am coming to the borders and I will kill you...</td>\n",
              "    </tr>\n",
              "    <tr>\n",
              "      <th>2</th>\n",
              "      <td>2401</td>\n",
              "      <td>Borderlands</td>\n",
              "      <td>Positive</td>\n",
              "      <td>im getting on borderlands and i will kill you ...</td>\n",
              "    </tr>\n",
              "    <tr>\n",
              "      <th>3</th>\n",
              "      <td>2401</td>\n",
              "      <td>Borderlands</td>\n",
              "      <td>Positive</td>\n",
              "      <td>im coming on borderlands and i will murder you...</td>\n",
              "    </tr>\n",
              "    <tr>\n",
              "      <th>4</th>\n",
              "      <td>2401</td>\n",
              "      <td>Borderlands</td>\n",
              "      <td>Positive</td>\n",
              "      <td>im getting on borderlands 2 and i will murder ...</td>\n",
              "    </tr>\n",
              "  </tbody>\n",
              "</table>\n",
              "</div>\n",
              "    <div class=\"colab-df-buttons\">\n",
              "\n",
              "  <div class=\"colab-df-container\">\n",
              "    <button class=\"colab-df-convert\" onclick=\"convertToInteractive('df-4f644407-d46c-49ed-bce1-f6e85e7bfac2')\"\n",
              "            title=\"Convert this dataframe to an interactive table.\"\n",
              "            style=\"display:none;\">\n",
              "\n",
              "  <svg xmlns=\"http://www.w3.org/2000/svg\" height=\"24px\" viewBox=\"0 -960 960 960\">\n",
              "    <path d=\"M120-120v-720h720v720H120Zm60-500h600v-160H180v160Zm220 220h160v-160H400v160Zm0 220h160v-160H400v160ZM180-400h160v-160H180v160Zm440 0h160v-160H620v160ZM180-180h160v-160H180v160Zm440 0h160v-160H620v160Z\"/>\n",
              "  </svg>\n",
              "    </button>\n",
              "\n",
              "  <style>\n",
              "    .colab-df-container {\n",
              "      display:flex;\n",
              "      gap: 12px;\n",
              "    }\n",
              "\n",
              "    .colab-df-convert {\n",
              "      background-color: #E8F0FE;\n",
              "      border: none;\n",
              "      border-radius: 50%;\n",
              "      cursor: pointer;\n",
              "      display: none;\n",
              "      fill: #1967D2;\n",
              "      height: 32px;\n",
              "      padding: 0 0 0 0;\n",
              "      width: 32px;\n",
              "    }\n",
              "\n",
              "    .colab-df-convert:hover {\n",
              "      background-color: #E2EBFA;\n",
              "      box-shadow: 0px 1px 2px rgba(60, 64, 67, 0.3), 0px 1px 3px 1px rgba(60, 64, 67, 0.15);\n",
              "      fill: #174EA6;\n",
              "    }\n",
              "\n",
              "    .colab-df-buttons div {\n",
              "      margin-bottom: 4px;\n",
              "    }\n",
              "\n",
              "    [theme=dark] .colab-df-convert {\n",
              "      background-color: #3B4455;\n",
              "      fill: #D2E3FC;\n",
              "    }\n",
              "\n",
              "    [theme=dark] .colab-df-convert:hover {\n",
              "      background-color: #434B5C;\n",
              "      box-shadow: 0px 1px 3px 1px rgba(0, 0, 0, 0.15);\n",
              "      filter: drop-shadow(0px 1px 2px rgba(0, 0, 0, 0.3));\n",
              "      fill: #FFFFFF;\n",
              "    }\n",
              "  </style>\n",
              "\n",
              "    <script>\n",
              "      const buttonEl =\n",
              "        document.querySelector('#df-4f644407-d46c-49ed-bce1-f6e85e7bfac2 button.colab-df-convert');\n",
              "      buttonEl.style.display =\n",
              "        google.colab.kernel.accessAllowed ? 'block' : 'none';\n",
              "\n",
              "      async function convertToInteractive(key) {\n",
              "        const element = document.querySelector('#df-4f644407-d46c-49ed-bce1-f6e85e7bfac2');\n",
              "        const dataTable =\n",
              "          await google.colab.kernel.invokeFunction('convertToInteractive',\n",
              "                                                    [key], {});\n",
              "        if (!dataTable) return;\n",
              "\n",
              "        const docLinkHtml = 'Like what you see? Visit the ' +\n",
              "          '<a target=\"_blank\" href=https://colab.research.google.com/notebooks/data_table.ipynb>data table notebook</a>'\n",
              "          + ' to learn more about interactive tables.';\n",
              "        element.innerHTML = '';\n",
              "        dataTable['output_type'] = 'display_data';\n",
              "        await google.colab.output.renderOutput(dataTable, element);\n",
              "        const docLink = document.createElement('div');\n",
              "        docLink.innerHTML = docLinkHtml;\n",
              "        element.appendChild(docLink);\n",
              "      }\n",
              "    </script>\n",
              "  </div>\n",
              "\n",
              "\n",
              "<div id=\"df-2351f3ee-cf29-42ca-8c83-65032085b5c3\">\n",
              "  <button class=\"colab-df-quickchart\" onclick=\"quickchart('df-2351f3ee-cf29-42ca-8c83-65032085b5c3')\"\n",
              "            title=\"Suggest charts.\"\n",
              "            style=\"display:none;\">\n",
              "\n",
              "<svg xmlns=\"http://www.w3.org/2000/svg\" height=\"24px\"viewBox=\"0 0 24 24\"\n",
              "     width=\"24px\">\n",
              "    <g>\n",
              "        <path d=\"M19 3H5c-1.1 0-2 .9-2 2v14c0 1.1.9 2 2 2h14c1.1 0 2-.9 2-2V5c0-1.1-.9-2-2-2zM9 17H7v-7h2v7zm4 0h-2V7h2v10zm4 0h-2v-4h2v4z\"/>\n",
              "    </g>\n",
              "</svg>\n",
              "  </button>\n",
              "\n",
              "<style>\n",
              "  .colab-df-quickchart {\n",
              "      --bg-color: #E8F0FE;\n",
              "      --fill-color: #1967D2;\n",
              "      --hover-bg-color: #E2EBFA;\n",
              "      --hover-fill-color: #174EA6;\n",
              "      --disabled-fill-color: #AAA;\n",
              "      --disabled-bg-color: #DDD;\n",
              "  }\n",
              "\n",
              "  [theme=dark] .colab-df-quickchart {\n",
              "      --bg-color: #3B4455;\n",
              "      --fill-color: #D2E3FC;\n",
              "      --hover-bg-color: #434B5C;\n",
              "      --hover-fill-color: #FFFFFF;\n",
              "      --disabled-bg-color: #3B4455;\n",
              "      --disabled-fill-color: #666;\n",
              "  }\n",
              "\n",
              "  .colab-df-quickchart {\n",
              "    background-color: var(--bg-color);\n",
              "    border: none;\n",
              "    border-radius: 50%;\n",
              "    cursor: pointer;\n",
              "    display: none;\n",
              "    fill: var(--fill-color);\n",
              "    height: 32px;\n",
              "    padding: 0;\n",
              "    width: 32px;\n",
              "  }\n",
              "\n",
              "  .colab-df-quickchart:hover {\n",
              "    background-color: var(--hover-bg-color);\n",
              "    box-shadow: 0 1px 2px rgba(60, 64, 67, 0.3), 0 1px 3px 1px rgba(60, 64, 67, 0.15);\n",
              "    fill: var(--button-hover-fill-color);\n",
              "  }\n",
              "\n",
              "  .colab-df-quickchart-complete:disabled,\n",
              "  .colab-df-quickchart-complete:disabled:hover {\n",
              "    background-color: var(--disabled-bg-color);\n",
              "    fill: var(--disabled-fill-color);\n",
              "    box-shadow: none;\n",
              "  }\n",
              "\n",
              "  .colab-df-spinner {\n",
              "    border: 2px solid var(--fill-color);\n",
              "    border-color: transparent;\n",
              "    border-bottom-color: var(--fill-color);\n",
              "    animation:\n",
              "      spin 1s steps(1) infinite;\n",
              "  }\n",
              "\n",
              "  @keyframes spin {\n",
              "    0% {\n",
              "      border-color: transparent;\n",
              "      border-bottom-color: var(--fill-color);\n",
              "      border-left-color: var(--fill-color);\n",
              "    }\n",
              "    20% {\n",
              "      border-color: transparent;\n",
              "      border-left-color: var(--fill-color);\n",
              "      border-top-color: var(--fill-color);\n",
              "    }\n",
              "    30% {\n",
              "      border-color: transparent;\n",
              "      border-left-color: var(--fill-color);\n",
              "      border-top-color: var(--fill-color);\n",
              "      border-right-color: var(--fill-color);\n",
              "    }\n",
              "    40% {\n",
              "      border-color: transparent;\n",
              "      border-right-color: var(--fill-color);\n",
              "      border-top-color: var(--fill-color);\n",
              "    }\n",
              "    60% {\n",
              "      border-color: transparent;\n",
              "      border-right-color: var(--fill-color);\n",
              "    }\n",
              "    80% {\n",
              "      border-color: transparent;\n",
              "      border-right-color: var(--fill-color);\n",
              "      border-bottom-color: var(--fill-color);\n",
              "    }\n",
              "    90% {\n",
              "      border-color: transparent;\n",
              "      border-bottom-color: var(--fill-color);\n",
              "    }\n",
              "  }\n",
              "</style>\n",
              "\n",
              "  <script>\n",
              "    async function quickchart(key) {\n",
              "      const quickchartButtonEl =\n",
              "        document.querySelector('#' + key + ' button');\n",
              "      quickchartButtonEl.disabled = true;  // To prevent multiple clicks.\n",
              "      quickchartButtonEl.classList.add('colab-df-spinner');\n",
              "      try {\n",
              "        const charts = await google.colab.kernel.invokeFunction(\n",
              "            'suggestCharts', [key], {});\n",
              "      } catch (error) {\n",
              "        console.error('Error during call to suggestCharts:', error);\n",
              "      }\n",
              "      quickchartButtonEl.classList.remove('colab-df-spinner');\n",
              "      quickchartButtonEl.classList.add('colab-df-quickchart-complete');\n",
              "    }\n",
              "    (() => {\n",
              "      let quickchartButtonEl =\n",
              "        document.querySelector('#df-2351f3ee-cf29-42ca-8c83-65032085b5c3 button');\n",
              "      quickchartButtonEl.style.display =\n",
              "        google.colab.kernel.accessAllowed ? 'block' : 'none';\n",
              "    })();\n",
              "  </script>\n",
              "</div>\n",
              "    </div>\n",
              "  </div>\n"
            ]
          },
          "metadata": {},
          "execution_count": 121
        }
      ],
      "source": [
        "#Set the header for train\n",
        "train.columns = ['id', 'information', 'sentiment', 'text']\n",
        "train.head()"
      ]
    },
    {
      "cell_type": "code",
      "execution_count": 122,
      "metadata": {
        "colab": {
          "base_uri": "https://localhost:8080/",
          "height": 206
        },
        "id": "vgOsKqcD7Fy0",
        "outputId": "060276b4-7855-4a52-d736-5680f038a74a"
      },
      "outputs": [
        {
          "output_type": "execute_result",
          "data": {
            "text/plain": [
              "     id information   sentiment  \\\n",
              "0  3364    Facebook  Irrelevant   \n",
              "1   352      Amazon     Neutral   \n",
              "2  8312   Microsoft    Negative   \n",
              "3  4371       CS-GO    Negative   \n",
              "4  4433      Google     Neutral   \n",
              "\n",
              "                                                text  \n",
              "0  I mentioned on Facebook that I was struggling ...  \n",
              "1  BBC News - Amazon boss Jeff Bezos rejects clai...  \n",
              "2  @Microsoft Why do I pay for WORD when it funct...  \n",
              "3  CSGO matchmaking is so full of closet hacking,...  \n",
              "4  Now the President is slapping Americans in the...  "
            ],
            "text/html": [
              "\n",
              "  <div id=\"df-af19faf7-f263-447b-94df-80bd8f8219bc\" class=\"colab-df-container\">\n",
              "    <div>\n",
              "<style scoped>\n",
              "    .dataframe tbody tr th:only-of-type {\n",
              "        vertical-align: middle;\n",
              "    }\n",
              "\n",
              "    .dataframe tbody tr th {\n",
              "        vertical-align: top;\n",
              "    }\n",
              "\n",
              "    .dataframe thead th {\n",
              "        text-align: right;\n",
              "    }\n",
              "</style>\n",
              "<table border=\"1\" class=\"dataframe\">\n",
              "  <thead>\n",
              "    <tr style=\"text-align: right;\">\n",
              "      <th></th>\n",
              "      <th>id</th>\n",
              "      <th>information</th>\n",
              "      <th>sentiment</th>\n",
              "      <th>text</th>\n",
              "    </tr>\n",
              "  </thead>\n",
              "  <tbody>\n",
              "    <tr>\n",
              "      <th>0</th>\n",
              "      <td>3364</td>\n",
              "      <td>Facebook</td>\n",
              "      <td>Irrelevant</td>\n",
              "      <td>I mentioned on Facebook that I was struggling ...</td>\n",
              "    </tr>\n",
              "    <tr>\n",
              "      <th>1</th>\n",
              "      <td>352</td>\n",
              "      <td>Amazon</td>\n",
              "      <td>Neutral</td>\n",
              "      <td>BBC News - Amazon boss Jeff Bezos rejects clai...</td>\n",
              "    </tr>\n",
              "    <tr>\n",
              "      <th>2</th>\n",
              "      <td>8312</td>\n",
              "      <td>Microsoft</td>\n",
              "      <td>Negative</td>\n",
              "      <td>@Microsoft Why do I pay for WORD when it funct...</td>\n",
              "    </tr>\n",
              "    <tr>\n",
              "      <th>3</th>\n",
              "      <td>4371</td>\n",
              "      <td>CS-GO</td>\n",
              "      <td>Negative</td>\n",
              "      <td>CSGO matchmaking is so full of closet hacking,...</td>\n",
              "    </tr>\n",
              "    <tr>\n",
              "      <th>4</th>\n",
              "      <td>4433</td>\n",
              "      <td>Google</td>\n",
              "      <td>Neutral</td>\n",
              "      <td>Now the President is slapping Americans in the...</td>\n",
              "    </tr>\n",
              "  </tbody>\n",
              "</table>\n",
              "</div>\n",
              "    <div class=\"colab-df-buttons\">\n",
              "\n",
              "  <div class=\"colab-df-container\">\n",
              "    <button class=\"colab-df-convert\" onclick=\"convertToInteractive('df-af19faf7-f263-447b-94df-80bd8f8219bc')\"\n",
              "            title=\"Convert this dataframe to an interactive table.\"\n",
              "            style=\"display:none;\">\n",
              "\n",
              "  <svg xmlns=\"http://www.w3.org/2000/svg\" height=\"24px\" viewBox=\"0 -960 960 960\">\n",
              "    <path d=\"M120-120v-720h720v720H120Zm60-500h600v-160H180v160Zm220 220h160v-160H400v160Zm0 220h160v-160H400v160ZM180-400h160v-160H180v160Zm440 0h160v-160H620v160ZM180-180h160v-160H180v160Zm440 0h160v-160H620v160Z\"/>\n",
              "  </svg>\n",
              "    </button>\n",
              "\n",
              "  <style>\n",
              "    .colab-df-container {\n",
              "      display:flex;\n",
              "      gap: 12px;\n",
              "    }\n",
              "\n",
              "    .colab-df-convert {\n",
              "      background-color: #E8F0FE;\n",
              "      border: none;\n",
              "      border-radius: 50%;\n",
              "      cursor: pointer;\n",
              "      display: none;\n",
              "      fill: #1967D2;\n",
              "      height: 32px;\n",
              "      padding: 0 0 0 0;\n",
              "      width: 32px;\n",
              "    }\n",
              "\n",
              "    .colab-df-convert:hover {\n",
              "      background-color: #E2EBFA;\n",
              "      box-shadow: 0px 1px 2px rgba(60, 64, 67, 0.3), 0px 1px 3px 1px rgba(60, 64, 67, 0.15);\n",
              "      fill: #174EA6;\n",
              "    }\n",
              "\n",
              "    .colab-df-buttons div {\n",
              "      margin-bottom: 4px;\n",
              "    }\n",
              "\n",
              "    [theme=dark] .colab-df-convert {\n",
              "      background-color: #3B4455;\n",
              "      fill: #D2E3FC;\n",
              "    }\n",
              "\n",
              "    [theme=dark] .colab-df-convert:hover {\n",
              "      background-color: #434B5C;\n",
              "      box-shadow: 0px 1px 3px 1px rgba(0, 0, 0, 0.15);\n",
              "      filter: drop-shadow(0px 1px 2px rgba(0, 0, 0, 0.3));\n",
              "      fill: #FFFFFF;\n",
              "    }\n",
              "  </style>\n",
              "\n",
              "    <script>\n",
              "      const buttonEl =\n",
              "        document.querySelector('#df-af19faf7-f263-447b-94df-80bd8f8219bc button.colab-df-convert');\n",
              "      buttonEl.style.display =\n",
              "        google.colab.kernel.accessAllowed ? 'block' : 'none';\n",
              "\n",
              "      async function convertToInteractive(key) {\n",
              "        const element = document.querySelector('#df-af19faf7-f263-447b-94df-80bd8f8219bc');\n",
              "        const dataTable =\n",
              "          await google.colab.kernel.invokeFunction('convertToInteractive',\n",
              "                                                    [key], {});\n",
              "        if (!dataTable) return;\n",
              "\n",
              "        const docLinkHtml = 'Like what you see? Visit the ' +\n",
              "          '<a target=\"_blank\" href=https://colab.research.google.com/notebooks/data_table.ipynb>data table notebook</a>'\n",
              "          + ' to learn more about interactive tables.';\n",
              "        element.innerHTML = '';\n",
              "        dataTable['output_type'] = 'display_data';\n",
              "        await google.colab.output.renderOutput(dataTable, element);\n",
              "        const docLink = document.createElement('div');\n",
              "        docLink.innerHTML = docLinkHtml;\n",
              "        element.appendChild(docLink);\n",
              "      }\n",
              "    </script>\n",
              "  </div>\n",
              "\n",
              "\n",
              "<div id=\"df-7ab24b22-b722-443a-8404-d9b9952e11f0\">\n",
              "  <button class=\"colab-df-quickchart\" onclick=\"quickchart('df-7ab24b22-b722-443a-8404-d9b9952e11f0')\"\n",
              "            title=\"Suggest charts.\"\n",
              "            style=\"display:none;\">\n",
              "\n",
              "<svg xmlns=\"http://www.w3.org/2000/svg\" height=\"24px\"viewBox=\"0 0 24 24\"\n",
              "     width=\"24px\">\n",
              "    <g>\n",
              "        <path d=\"M19 3H5c-1.1 0-2 .9-2 2v14c0 1.1.9 2 2 2h14c1.1 0 2-.9 2-2V5c0-1.1-.9-2-2-2zM9 17H7v-7h2v7zm4 0h-2V7h2v10zm4 0h-2v-4h2v4z\"/>\n",
              "    </g>\n",
              "</svg>\n",
              "  </button>\n",
              "\n",
              "<style>\n",
              "  .colab-df-quickchart {\n",
              "      --bg-color: #E8F0FE;\n",
              "      --fill-color: #1967D2;\n",
              "      --hover-bg-color: #E2EBFA;\n",
              "      --hover-fill-color: #174EA6;\n",
              "      --disabled-fill-color: #AAA;\n",
              "      --disabled-bg-color: #DDD;\n",
              "  }\n",
              "\n",
              "  [theme=dark] .colab-df-quickchart {\n",
              "      --bg-color: #3B4455;\n",
              "      --fill-color: #D2E3FC;\n",
              "      --hover-bg-color: #434B5C;\n",
              "      --hover-fill-color: #FFFFFF;\n",
              "      --disabled-bg-color: #3B4455;\n",
              "      --disabled-fill-color: #666;\n",
              "  }\n",
              "\n",
              "  .colab-df-quickchart {\n",
              "    background-color: var(--bg-color);\n",
              "    border: none;\n",
              "    border-radius: 50%;\n",
              "    cursor: pointer;\n",
              "    display: none;\n",
              "    fill: var(--fill-color);\n",
              "    height: 32px;\n",
              "    padding: 0;\n",
              "    width: 32px;\n",
              "  }\n",
              "\n",
              "  .colab-df-quickchart:hover {\n",
              "    background-color: var(--hover-bg-color);\n",
              "    box-shadow: 0 1px 2px rgba(60, 64, 67, 0.3), 0 1px 3px 1px rgba(60, 64, 67, 0.15);\n",
              "    fill: var(--button-hover-fill-color);\n",
              "  }\n",
              "\n",
              "  .colab-df-quickchart-complete:disabled,\n",
              "  .colab-df-quickchart-complete:disabled:hover {\n",
              "    background-color: var(--disabled-bg-color);\n",
              "    fill: var(--disabled-fill-color);\n",
              "    box-shadow: none;\n",
              "  }\n",
              "\n",
              "  .colab-df-spinner {\n",
              "    border: 2px solid var(--fill-color);\n",
              "    border-color: transparent;\n",
              "    border-bottom-color: var(--fill-color);\n",
              "    animation:\n",
              "      spin 1s steps(1) infinite;\n",
              "  }\n",
              "\n",
              "  @keyframes spin {\n",
              "    0% {\n",
              "      border-color: transparent;\n",
              "      border-bottom-color: var(--fill-color);\n",
              "      border-left-color: var(--fill-color);\n",
              "    }\n",
              "    20% {\n",
              "      border-color: transparent;\n",
              "      border-left-color: var(--fill-color);\n",
              "      border-top-color: var(--fill-color);\n",
              "    }\n",
              "    30% {\n",
              "      border-color: transparent;\n",
              "      border-left-color: var(--fill-color);\n",
              "      border-top-color: var(--fill-color);\n",
              "      border-right-color: var(--fill-color);\n",
              "    }\n",
              "    40% {\n",
              "      border-color: transparent;\n",
              "      border-right-color: var(--fill-color);\n",
              "      border-top-color: var(--fill-color);\n",
              "    }\n",
              "    60% {\n",
              "      border-color: transparent;\n",
              "      border-right-color: var(--fill-color);\n",
              "    }\n",
              "    80% {\n",
              "      border-color: transparent;\n",
              "      border-right-color: var(--fill-color);\n",
              "      border-bottom-color: var(--fill-color);\n",
              "    }\n",
              "    90% {\n",
              "      border-color: transparent;\n",
              "      border-bottom-color: var(--fill-color);\n",
              "    }\n",
              "  }\n",
              "</style>\n",
              "\n",
              "  <script>\n",
              "    async function quickchart(key) {\n",
              "      const quickchartButtonEl =\n",
              "        document.querySelector('#' + key + ' button');\n",
              "      quickchartButtonEl.disabled = true;  // To prevent multiple clicks.\n",
              "      quickchartButtonEl.classList.add('colab-df-spinner');\n",
              "      try {\n",
              "        const charts = await google.colab.kernel.invokeFunction(\n",
              "            'suggestCharts', [key], {});\n",
              "      } catch (error) {\n",
              "        console.error('Error during call to suggestCharts:', error);\n",
              "      }\n",
              "      quickchartButtonEl.classList.remove('colab-df-spinner');\n",
              "      quickchartButtonEl.classList.add('colab-df-quickchart-complete');\n",
              "    }\n",
              "    (() => {\n",
              "      let quickchartButtonEl =\n",
              "        document.querySelector('#df-7ab24b22-b722-443a-8404-d9b9952e11f0 button');\n",
              "      quickchartButtonEl.style.display =\n",
              "        google.colab.kernel.accessAllowed ? 'block' : 'none';\n",
              "    })();\n",
              "  </script>\n",
              "</div>\n",
              "    </div>\n",
              "  </div>\n"
            ]
          },
          "metadata": {},
          "execution_count": 122
        }
      ],
      "source": [
        "#Set the header for validate\n",
        "validate.columns = ['id', 'information', 'sentiment', 'text']\n",
        "validate.head()"
      ]
    },
    {
      "cell_type": "code",
      "execution_count": 123,
      "metadata": {
        "id": "usnZHLmK7Fy0"
      },
      "outputs": [],
      "source": [
        "#Create a copy so the original data is not getting changed\n",
        "train_data = train\n",
        "validate_data = validate"
      ]
    },
    {
      "cell_type": "code",
      "execution_count": 124,
      "metadata": {
        "colab": {
          "base_uri": "https://localhost:8080/"
        },
        "id": "4okbm9vm_IxO",
        "outputId": "34c24839-4e07-4f8d-c064-9000b0201287"
      },
      "outputs": [
        {
          "output_type": "stream",
          "name": "stdout",
          "text": [
            "id               0\n",
            "information      0\n",
            "sentiment        0\n",
            "text           686\n",
            "dtype: int64\n",
            "id             0\n",
            "information    0\n",
            "sentiment      0\n",
            "text           0\n",
            "dtype: int64\n"
          ]
        }
      ],
      "source": [
        "#Check if there are null data on the datasets\n",
        "print(train_data.isnull().sum())\n",
        "print(validate_data.isnull().sum())"
      ]
    },
    {
      "cell_type": "code",
      "execution_count": 125,
      "metadata": {
        "colab": {
          "base_uri": "https://localhost:8080/"
        },
        "id": "SaRNQNdC_oW4",
        "outputId": "104023f2-9d85-4814-e296-09cee066f58d"
      },
      "outputs": [
        {
          "output_type": "stream",
          "name": "stdout",
          "text": [
            "id             0\n",
            "information    0\n",
            "sentiment      0\n",
            "text           0\n",
            "dtype: int64\n",
            "id             0\n",
            "information    0\n",
            "sentiment      0\n",
            "text           0\n",
            "dtype: int64\n"
          ]
        }
      ],
      "source": [
        "#Remove the null data\n",
        "train_data = train_data.dropna()\n",
        "validate_data = validate_data.dropna()\n",
        "#Check if all null data removed\n",
        "print(train_data.isnull().sum())\n",
        "print(validate_data.isnull().sum())"
      ]
    },
    {
      "cell_type": "code",
      "source": [
        "#Text transformation: Create a new column to store the lowercase of the text\n",
        "train_data[\"lower\"]=train_data.text.str.lower() #lowercase\n",
        "train_data[\"lower\"]=[str(data) for data in train_data.lower] #converting all to string\n",
        "train_data[\"lower\"]=train_data.lower.apply(lambda x: re.sub('[^A-Za-z0-9 ]+', ' ', x)) #regex\n",
        "validate_data[\"lower\"]=validate_data.text.str.lower() #lowercase\n",
        "validate_data[\"lower\"]=[str(data) for data in validate_data.lower] #converting all to string\n",
        "validate_data[\"lower\"]=validate_data.lower.apply(lambda x: re.sub('[^A-Za-z0-9 ]+', ' ', x)) #regex"
      ],
      "metadata": {
        "colab": {
          "base_uri": "https://localhost:8080/"
        },
        "id": "1sx-7I8XLMzR",
        "outputId": "ba077410-debe-4c2b-dc5a-68a57a25493b"
      },
      "execution_count": 126,
      "outputs": [
        {
          "output_type": "stream",
          "name": "stderr",
          "text": [
            "<ipython-input-126-642ae539f43d>:2: SettingWithCopyWarning: \n",
            "A value is trying to be set on a copy of a slice from a DataFrame.\n",
            "Try using .loc[row_indexer,col_indexer] = value instead\n",
            "\n",
            "See the caveats in the documentation: https://pandas.pydata.org/pandas-docs/stable/user_guide/indexing.html#returning-a-view-versus-a-copy\n",
            "  train_data[\"lower\"]=train_data.text.str.lower() #lowercase\n",
            "<ipython-input-126-642ae539f43d>:3: SettingWithCopyWarning: \n",
            "A value is trying to be set on a copy of a slice from a DataFrame.\n",
            "Try using .loc[row_indexer,col_indexer] = value instead\n",
            "\n",
            "See the caveats in the documentation: https://pandas.pydata.org/pandas-docs/stable/user_guide/indexing.html#returning-a-view-versus-a-copy\n",
            "  train_data[\"lower\"]=[str(data) for data in train_data.lower] #converting all to string\n",
            "<ipython-input-126-642ae539f43d>:4: SettingWithCopyWarning: \n",
            "A value is trying to be set on a copy of a slice from a DataFrame.\n",
            "Try using .loc[row_indexer,col_indexer] = value instead\n",
            "\n",
            "See the caveats in the documentation: https://pandas.pydata.org/pandas-docs/stable/user_guide/indexing.html#returning-a-view-versus-a-copy\n",
            "  train_data[\"lower\"]=train_data.lower.apply(lambda x: re.sub('[^A-Za-z0-9 ]+', ' ', x)) #regex\n"
          ]
        }
      ]
    },
    {
      "cell_type": "code",
      "source": [
        "#Text splitting\n",
        "tokens_text = [word_tokenize(str(word)) for word in train_data.lower]\n",
        "#Unique word counter\n",
        "tokens_counter = [item for sublist in tokens_text for item in sublist]\n",
        "print(\"Number of tokens: \", len(set(tokens_counter)))"
      ],
      "metadata": {
        "colab": {
          "base_uri": "https://localhost:8080/"
        },
        "id": "byJChquKqyo0",
        "outputId": "3f99f6f3-8bcb-462b-b36a-592f6dc2fa0d"
      },
      "execution_count": 129,
      "outputs": [
        {
          "output_type": "stream",
          "name": "stdout",
          "text": [
            "Number of tokens:  30435\n"
          ]
        }
      ]
    },
    {
      "cell_type": "code",
      "execution_count": 180,
      "metadata": {
        "colab": {
          "base_uri": "https://localhost:8080/"
        },
        "id": "LBSyYGZyTF9i",
        "outputId": "ead73f15-ebba-4dc4-9109-56c6034c9fc6"
      },
      "outputs": [
        {
          "output_type": "stream",
          "name": "stderr",
          "text": [
            "/usr/local/lib/python3.10/dist-packages/sklearn/feature_extraction/text.py:528: UserWarning: The parameter 'token_pattern' will not be used since 'tokenizer' is not None'\n",
            "  warnings.warn(\n"
          ]
        }
      ],
      "source": [
        "# pull the data into vectors\n",
        "vectorizer = CountVectorizer(tokenizer=word_tokenize)\n",
        "x_train, x_test = train_test_split(train_data, test_size=0.2, random_state=0)\n",
        "\n",
        "#encode based of the lowercase column\n",
        "x_train_encode = vectorizer.fit_transform(x_train.lower)\n",
        "x_test_encode = vectorizer.transform(x_test.lower)\n",
        "\n",
        "#Labels for train and test\n",
        "y_train = x_train['sentiment']\n",
        "y_test = x_test['sentiment']"
      ]
    },
    {
      "cell_type": "code",
      "source": [
        "#Total of registers per category\n",
        "y_test.value_counts() / y_test.shape[0]"
      ],
      "metadata": {
        "colab": {
          "base_uri": "https://localhost:8080/"
        },
        "id": "gzzz5k8VffiC",
        "outputId": "5a7deb0d-132c-470b-bf97-57d30236c6c1"
      },
      "execution_count": 181,
      "outputs": [
        {
          "output_type": "execute_result",
          "data": {
            "text/plain": [
              "Negative      0.300338\n",
              "Positive      0.284257\n",
              "Neutral       0.243716\n",
              "Irrelevant    0.171689\n",
              "Name: sentiment, dtype: float64"
            ]
          },
          "metadata": {},
          "execution_count": 181
        }
      ]
    },
    {
      "cell_type": "code",
      "execution_count": 194,
      "metadata": {
        "id": "H_g1qb1wXb2z",
        "colab": {
          "base_uri": "https://localhost:8080/",
          "height": 75
        },
        "outputId": "6b179515-85d4-42d5-92cb-a1ab84f701f1"
      },
      "outputs": [
        {
          "output_type": "execute_result",
          "data": {
            "text/plain": [
              "RandomForestClassifier(n_jobs=-1, random_state=42)"
            ],
            "text/html": [
              "<style>#sk-container-id-3 {color: black;background-color: white;}#sk-container-id-3 pre{padding: 0;}#sk-container-id-3 div.sk-toggleable {background-color: white;}#sk-container-id-3 label.sk-toggleable__label {cursor: pointer;display: block;width: 100%;margin-bottom: 0;padding: 0.3em;box-sizing: border-box;text-align: center;}#sk-container-id-3 label.sk-toggleable__label-arrow:before {content: \"▸\";float: left;margin-right: 0.25em;color: #696969;}#sk-container-id-3 label.sk-toggleable__label-arrow:hover:before {color: black;}#sk-container-id-3 div.sk-estimator:hover label.sk-toggleable__label-arrow:before {color: black;}#sk-container-id-3 div.sk-toggleable__content {max-height: 0;max-width: 0;overflow: hidden;text-align: left;background-color: #f0f8ff;}#sk-container-id-3 div.sk-toggleable__content pre {margin: 0.2em;color: black;border-radius: 0.25em;background-color: #f0f8ff;}#sk-container-id-3 input.sk-toggleable__control:checked~div.sk-toggleable__content {max-height: 200px;max-width: 100%;overflow: auto;}#sk-container-id-3 input.sk-toggleable__control:checked~label.sk-toggleable__label-arrow:before {content: \"▾\";}#sk-container-id-3 div.sk-estimator input.sk-toggleable__control:checked~label.sk-toggleable__label {background-color: #d4ebff;}#sk-container-id-3 div.sk-label input.sk-toggleable__control:checked~label.sk-toggleable__label {background-color: #d4ebff;}#sk-container-id-3 input.sk-hidden--visually {border: 0;clip: rect(1px 1px 1px 1px);clip: rect(1px, 1px, 1px, 1px);height: 1px;margin: -1px;overflow: hidden;padding: 0;position: absolute;width: 1px;}#sk-container-id-3 div.sk-estimator {font-family: monospace;background-color: #f0f8ff;border: 1px dotted black;border-radius: 0.25em;box-sizing: border-box;margin-bottom: 0.5em;}#sk-container-id-3 div.sk-estimator:hover {background-color: #d4ebff;}#sk-container-id-3 div.sk-parallel-item::after {content: \"\";width: 100%;border-bottom: 1px solid gray;flex-grow: 1;}#sk-container-id-3 div.sk-label:hover label.sk-toggleable__label {background-color: #d4ebff;}#sk-container-id-3 div.sk-serial::before {content: \"\";position: absolute;border-left: 1px solid gray;box-sizing: border-box;top: 0;bottom: 0;left: 50%;z-index: 0;}#sk-container-id-3 div.sk-serial {display: flex;flex-direction: column;align-items: center;background-color: white;padding-right: 0.2em;padding-left: 0.2em;position: relative;}#sk-container-id-3 div.sk-item {position: relative;z-index: 1;}#sk-container-id-3 div.sk-parallel {display: flex;align-items: stretch;justify-content: center;background-color: white;position: relative;}#sk-container-id-3 div.sk-item::before, #sk-container-id-3 div.sk-parallel-item::before {content: \"\";position: absolute;border-left: 1px solid gray;box-sizing: border-box;top: 0;bottom: 0;left: 50%;z-index: -1;}#sk-container-id-3 div.sk-parallel-item {display: flex;flex-direction: column;z-index: 1;position: relative;background-color: white;}#sk-container-id-3 div.sk-parallel-item:first-child::after {align-self: flex-end;width: 50%;}#sk-container-id-3 div.sk-parallel-item:last-child::after {align-self: flex-start;width: 50%;}#sk-container-id-3 div.sk-parallel-item:only-child::after {width: 0;}#sk-container-id-3 div.sk-dashed-wrapped {border: 1px dashed gray;margin: 0 0.4em 0.5em 0.4em;box-sizing: border-box;padding-bottom: 0.4em;background-color: white;}#sk-container-id-3 div.sk-label label {font-family: monospace;font-weight: bold;display: inline-block;line-height: 1.2em;}#sk-container-id-3 div.sk-label-container {text-align: center;}#sk-container-id-3 div.sk-container {/* jupyter's `normalize.less` sets `[hidden] { display: none; }` but bootstrap.min.css set `[hidden] { display: none !important; }` so we also need the `!important` here to be able to override the default hidden behavior on the sphinx rendered scikit-learn.org. See: https://github.com/scikit-learn/scikit-learn/issues/21755 */display: inline-block !important;position: relative;}#sk-container-id-3 div.sk-text-repr-fallback {display: none;}</style><div id=\"sk-container-id-3\" class=\"sk-top-container\"><div class=\"sk-text-repr-fallback\"><pre>RandomForestClassifier(n_jobs=-1, random_state=42)</pre><b>In a Jupyter environment, please rerun this cell to show the HTML representation or trust the notebook. <br />On GitHub, the HTML representation is unable to render, please try loading this page with nbviewer.org.</b></div><div class=\"sk-container\" hidden><div class=\"sk-item\"><div class=\"sk-estimator sk-toggleable\"><input class=\"sk-toggleable__control sk-hidden--visually\" id=\"sk-estimator-id-5\" type=\"checkbox\" checked><label for=\"sk-estimator-id-5\" class=\"sk-toggleable__label sk-toggleable__label-arrow\">RandomForestClassifier</label><div class=\"sk-toggleable__content\"><pre>RandomForestClassifier(n_jobs=-1, random_state=42)</pre></div></div></div></div></div>"
            ]
          },
          "metadata": {},
          "execution_count": 194
        }
      ],
      "source": [
        "# create a Random Forest Classifier object\n",
        "rfc = RandomForestClassifier(n_estimators=100, n_jobs=-1, random_state=42)\n",
        "\n",
        "# fit the classifier to the training data\n",
        "rfc.fit(x_train_encode, y_train)"
      ]
    },
    {
      "cell_type": "code",
      "source": [
        "# Calculate the accuracy using the test data\n",
        "y_pred = rfc.predict(x_test_encode)\n",
        "accuracy = accuracy_score(y_test, y_pred)\n",
        "print(\"Accuracy:\", accuracy)"
      ],
      "metadata": {
        "colab": {
          "base_uri": "https://localhost:8080/"
        },
        "id": "tgLLP1-iGXY4",
        "outputId": "9509a8d5-6946-4d0e-b24d-2f1efc7a63bb"
      },
      "execution_count": 195,
      "outputs": [
        {
          "output_type": "stream",
          "name": "stdout",
          "text": [
            "Accuracy: 0.9266216216216216\n"
          ]
        }
      ]
    },
    {
      "cell_type": "code",
      "source": [
        "# Create the confusion matrix\n",
        "cm = confusion_matrix(y_test, y_pred)\n",
        "\n",
        "ConfusionMatrixDisplay(confusion_matrix=cm, display_labels=rfc.classes_).plot();"
      ],
      "metadata": {
        "colab": {
          "base_uri": "https://localhost:8080/",
          "height": 449
        },
        "id": "K0HzKbqTtm30",
        "outputId": "54c347d6-9577-4b32-9a39-c55502d902cd"
      },
      "execution_count": 184,
      "outputs": [
        {
          "output_type": "display_data",
          "data": {
            "text/plain": [
              "<Figure size 640x480 with 2 Axes>"
            ],
            "image/png": "[encoded data removed]"
          },
          "metadata": {}
        }
      ]
    },
    {
      "cell_type": "code",
      "source": [
        "# calculate the accuracy of the classifier using the validation dataset\n",
        "x_val_encode = vectorizer.transform(validate_data.lower)\n",
        "y_val_test = validate_data['sentiment']\n",
        "\n",
        "val_pred = rfc.predict(x_val_encode)\n",
        "accuracy = accuracy_score(y_val_test, val_pred)\n",
        "print(f\"Accuracy: {accuracy}\")"
      ],
      "metadata": {
        "colab": {
          "base_uri": "https://localhost:8080/"
        },
        "id": "j61iPms_hxh1",
        "outputId": "22f485ba-1408-4b34-d4d6-1590379c97dc"
      },
      "execution_count": 185,
      "outputs": [
        {
          "output_type": "stream",
          "name": "stdout",
          "text": [
            "Accuracy: 0.967\n"
          ]
        }
      ]
    },
    {
      "cell_type": "code",
      "source": [
        "# Create the confusion matrix of the validation data\n",
        "cm = confusion_matrix(y_val_test, val_pred)\n",
        "\n",
        "ConfusionMatrixDisplay(confusion_matrix=cm, display_labels=rfc.classes_).plot();"
      ],
      "metadata": {
        "colab": {
          "base_uri": "https://localhost:8080/",
          "height": 449
        },
        "id": "4dkCrGffu1rp",
        "outputId": "cb35b4a2-7d03-402e-fd05-109cecd259eb"
      },
      "execution_count": 186,
      "outputs": [
        {
          "output_type": "display_data",
          "data": {
            "text/plain": [
              "<Figure size 640x480 with 2 Axes>"
            ],
            "image/png": "[encoded data removed]"
          },
          "metadata": {}
        }
      ]
    },
    {
      "cell_type": "code",
      "source": [
        "# Export the first three decision trees from the forest\n",
        "\n",
        "for i in range(3):\n",
        "    tree = rfc.estimators_[i]\n",
        "    dot_data = export_graphviz(tree,\n",
        "                               feature_names=vectorizer.get_feature_names_out(),\n",
        "                               class_names=rfc.classes_,\n",
        "                               filled=True,\n",
        "                               max_depth=2,\n",
        "                               impurity=False,\n",
        "                               proportion=True)\n",
        "    graph = graphviz.Source(dot_data)\n",
        "    display(graph)"
      ],
      "metadata": {
        "colab": {
          "base_uri": "https://localhost:8080/",
          "height": 1000
        },
        "id": "5Ago2I7znOy9",
        "outputId": "8e022c26-dc2f-4a92-b28a-946f73b01a25"
      },
      "execution_count": 187,
      "outputs": [
        {
          "output_type": "display_data",
          "data": {
            "image/svg+xml": "<?xml version=\"1.0\" encoding=\"UTF-8\" standalone=\"no\"?>\n<!DOCTYPE svg PUBLIC \"-//W3C//DTD SVG 1.1//EN\"\n \"http://www.w3.org/Graphics/SVG/1.1/DTD/svg11.dtd\">\n<!-- Generated by graphviz version 2.43.0 (0)\n -->\n<!-- Title: Tree Pages: 1 -->\n<svg width=\"974pt\" height=\"356pt\"\n viewBox=\"0.00 0.00 974.00 356.00\" xmlns=\"http://www.w3.org/2000/svg\" xmlns:xlink=\"http://www.w3.org/1999/xlink\">\n<g id=\"graph0\" class=\"graph\" transform=\"scale(1 1) rotate(0) translate(4 352)\">\n<title>Tree</title>\n<polygon fill=\"white\" stroke=\"transparent\" points=\"-4,4 -4,-352 970,-352 970,4 -4,4\"/>\n<!-- 0 -->\n<g id=\"node1\" class=\"node\">\n<title>0</title>\n<polygon fill=\"#f9fef9\" stroke=\"black\" points=\"602,-348 372,-348 372,-280 602,-280 602,-348\"/>\n<text text-anchor=\"middle\" x=\"487\" y=\"-332.8\" font-family=\"Helvetica,sans-Serif\" font-size=\"14.00\">dead &lt;= 0.5</text>\n<text text-anchor=\"middle\" x=\"487\" y=\"-317.8\" font-family=\"Helvetica,sans-Serif\" font-size=\"14.00\">samples = 100.0%</text>\n<text text-anchor=\"middle\" x=\"487\" y=\"-302.8\" font-family=\"Helvetica,sans-Serif\" font-size=\"14.00\">value = [0.176, 0.302, 0.244, 0.278]</text>\n<text text-anchor=\"middle\" x=\"487\" y=\"-287.8\" font-family=\"Helvetica,sans-Serif\" font-size=\"14.00\">class = Negative</text>\n</g>\n<!-- 1 -->\n<g id=\"node2\" class=\"node\">\n<title>1</title>\n<polygon fill=\"#f8fef7\" stroke=\"black\" points=\"478,-244 248,-244 248,-176 478,-176 478,-244\"/>\n<text text-anchor=\"middle\" x=\"363\" y=\"-228.8\" font-family=\"Helvetica,sans-Serif\" font-size=\"14.00\">t &lt;= 0.5</text>\n<text text-anchor=\"middle\" x=\"363\" y=\"-213.8\" font-family=\"Helvetica,sans-Serif\" font-size=\"14.00\">samples = 97.4%</text>\n<text text-anchor=\"middle\" x=\"363\" y=\"-198.8\" font-family=\"Helvetica,sans-Serif\" font-size=\"14.00\">value = [0.178, 0.305, 0.242, 0.276]</text>\n<text text-anchor=\"middle\" x=\"363\" y=\"-183.8\" font-family=\"Helvetica,sans-Serif\" font-size=\"14.00\">class = Negative</text>\n</g>\n<!-- 0&#45;&gt;1 -->\n<g id=\"edge1\" class=\"edge\">\n<title>0&#45;&gt;1</title>\n<path fill=\"none\" stroke=\"black\" d=\"M446.74,-279.88C435.48,-270.62 423.12,-260.45 411.44,-250.85\"/>\n<polygon fill=\"black\" stroke=\"black\" points=\"413.43,-247.95 403.48,-244.3 408.98,-253.36 413.43,-247.95\"/>\n<text text-anchor=\"middle\" x=\"405.9\" y=\"-265.48\" font-family=\"Helvetica,sans-Serif\" font-size=\"14.00\">True</text>\n</g>\n<!-- 39110 -->\n<g id=\"node9\" class=\"node\">\n<title>39110</title>\n<polygon fill=\"#fcf2fd\" stroke=\"black\" points=\"722,-244 500,-244 500,-176 722,-176 722,-244\"/>\n<text text-anchor=\"middle\" x=\"611\" y=\"-228.8\" font-family=\"Helvetica,sans-Serif\" font-size=\"14.00\">games &lt;= 0.5</text>\n<text text-anchor=\"middle\" x=\"611\" y=\"-213.8\" font-family=\"Helvetica,sans-Serif\" font-size=\"14.00\">samples = 2.6%</text>\n<text text-anchor=\"middle\" x=\"611\" y=\"-198.8\" font-family=\"Helvetica,sans-Serif\" font-size=\"14.00\">value = [0.109, 0.196, 0.325, 0.37]</text>\n<text text-anchor=\"middle\" x=\"611\" y=\"-183.8\" font-family=\"Helvetica,sans-Serif\" font-size=\"14.00\">class = Positive</text>\n</g>\n<!-- 0&#45;&gt;39110 -->\n<g id=\"edge8\" class=\"edge\">\n<title>0&#45;&gt;39110</title>\n<path fill=\"none\" stroke=\"black\" d=\"M527.26,-279.88C538.52,-270.62 550.88,-260.45 562.56,-250.85\"/>\n<polygon fill=\"black\" stroke=\"black\" points=\"565.02,-253.36 570.52,-244.3 560.57,-247.95 565.02,-253.36\"/>\n<text text-anchor=\"middle\" x=\"568.1\" y=\"-265.48\" font-family=\"Helvetica,sans-Serif\" font-size=\"14.00\">False</text>\n</g>\n<!-- 2 -->\n<g id=\"node3\" class=\"node\">\n<title>2</title>\n<polygon fill=\"#fdfffd\" stroke=\"black\" points=\"230,-140 0,-140 0,-72 230,-72 230,-140\"/>\n<text text-anchor=\"middle\" x=\"115\" y=\"-124.8\" font-family=\"Helvetica,sans-Serif\" font-size=\"14.00\">facebook &lt;= 0.5</text>\n<text text-anchor=\"middle\" x=\"115\" y=\"-109.8\" font-family=\"Helvetica,sans-Serif\" font-size=\"14.00\">samples = 83.9%</text>\n<text text-anchor=\"middle\" x=\"115\" y=\"-94.8\" font-family=\"Helvetica,sans-Serif\" font-size=\"14.00\">value = [0.181, 0.294, 0.239, 0.286]</text>\n<text text-anchor=\"middle\" x=\"115\" y=\"-79.8\" font-family=\"Helvetica,sans-Serif\" font-size=\"14.00\">class = Negative</text>\n</g>\n<!-- 1&#45;&gt;2 -->\n<g id=\"edge2\" class=\"edge\">\n<title>1&#45;&gt;2</title>\n<path fill=\"none\" stroke=\"black\" d=\"M282.48,-175.88C257.67,-165.68 230.19,-154.38 204.79,-143.93\"/>\n<polygon fill=\"black\" stroke=\"black\" points=\"206.12,-140.69 195.54,-140.12 203.46,-147.17 206.12,-140.69\"/>\n</g>\n<!-- 33833 -->\n<g id=\"node6\" class=\"node\">\n<title>33833</title>\n<polygon fill=\"#e4fbe2\" stroke=\"black\" points=\"478,-140 248,-140 248,-72 478,-72 478,-140\"/>\n<text text-anchor=\"middle\" x=\"363\" y=\"-124.8\" font-family=\"Helvetica,sans-Serif\" font-size=\"14.00\">i &lt;= 0.5</text>\n<text text-anchor=\"middle\" x=\"363\" y=\"-109.8\" font-family=\"Helvetica,sans-Serif\" font-size=\"14.00\">samples = 13.4%</text>\n<text text-anchor=\"middle\" x=\"363\" y=\"-94.8\" font-family=\"Helvetica,sans-Serif\" font-size=\"14.00\">value = [0.158, 0.371, 0.261, 0.209]</text>\n<text text-anchor=\"middle\" x=\"363\" y=\"-79.8\" font-family=\"Helvetica,sans-Serif\" font-size=\"14.00\">class = Negative</text>\n</g>\n<!-- 1&#45;&gt;33833 -->\n<g id=\"edge5\" class=\"edge\">\n<title>1&#45;&gt;33833</title>\n<path fill=\"none\" stroke=\"black\" d=\"M363,-175.88C363,-167.78 363,-158.98 363,-150.47\"/>\n<polygon fill=\"black\" stroke=\"black\" points=\"366.5,-150.3 363,-140.3 359.5,-150.3 366.5,-150.3\"/>\n</g>\n<!-- 3 -->\n<g id=\"node4\" class=\"node\">\n<title>3</title>\n<polygon fill=\"#c0c0c0\" stroke=\"black\" points=\"106,-36 52,-36 52,0 106,0 106,-36\"/>\n<text text-anchor=\"middle\" x=\"79\" y=\"-14.3\" font-family=\"Helvetica,sans-Serif\" font-size=\"14.00\">(...)</text>\n</g>\n<!-- 2&#45;&gt;3 -->\n<g id=\"edge3\" class=\"edge\">\n<title>2&#45;&gt;3</title>\n<path fill=\"none\" stroke=\"black\" d=\"M101.18,-72C97.54,-63.28 93.64,-53.98 90.16,-45.65\"/>\n<polygon fill=\"black\" stroke=\"black\" points=\"93.38,-44.28 86.29,-36.4 86.92,-46.98 93.38,-44.28\"/>\n</g>\n<!-- 32872 -->\n<g id=\"node5\" class=\"node\">\n<title>32872</title>\n<polygon fill=\"#c0c0c0\" stroke=\"black\" points=\"178,-36 124,-36 124,0 178,0 178,-36\"/>\n<text text-anchor=\"middle\" x=\"151\" y=\"-14.3\" font-family=\"Helvetica,sans-Serif\" font-size=\"14.00\">(...)</text>\n</g>\n<!-- 2&#45;&gt;32872 -->\n<g id=\"edge4\" class=\"edge\">\n<title>2&#45;&gt;32872</title>\n<path fill=\"none\" stroke=\"black\" d=\"M128.82,-72C132.46,-63.28 136.36,-53.98 139.84,-45.65\"/>\n<polygon fill=\"black\" stroke=\"black\" points=\"143.08,-46.98 143.71,-36.4 136.62,-44.28 143.08,-46.98\"/>\n</g>\n<!-- 33834 -->\n<g id=\"node7\" class=\"node\">\n<title>33834</title>\n<polygon fill=\"#c0c0c0\" stroke=\"black\" points=\"354,-36 300,-36 300,0 354,0 354,-36\"/>\n<text text-anchor=\"middle\" x=\"327\" y=\"-14.3\" font-family=\"Helvetica,sans-Serif\" font-size=\"14.00\">(...)</text>\n</g>\n<!-- 33833&#45;&gt;33834 -->\n<g id=\"edge6\" class=\"edge\">\n<title>33833&#45;&gt;33834</title>\n<path fill=\"none\" stroke=\"black\" d=\"M349.18,-72C345.54,-63.28 341.64,-53.98 338.16,-45.65\"/>\n<polygon fill=\"black\" stroke=\"black\" points=\"341.38,-44.28 334.29,-36.4 334.92,-46.98 341.38,-44.28\"/>\n</g>\n<!-- 36315 -->\n<g id=\"node8\" class=\"node\">\n<title>36315</title>\n<polygon fill=\"#c0c0c0\" stroke=\"black\" points=\"426,-36 372,-36 372,0 426,0 426,-36\"/>\n<text text-anchor=\"middle\" x=\"399\" y=\"-14.3\" font-family=\"Helvetica,sans-Serif\" font-size=\"14.00\">(...)</text>\n</g>\n<!-- 33833&#45;&gt;36315 -->\n<g id=\"edge7\" class=\"edge\">\n<title>33833&#45;&gt;36315</title>\n<path fill=\"none\" stroke=\"black\" d=\"M376.82,-72C380.46,-63.28 384.36,-53.98 387.84,-45.65\"/>\n<polygon fill=\"black\" stroke=\"black\" points=\"391.08,-46.98 391.71,-36.4 384.62,-44.28 391.08,-46.98\"/>\n</g>\n<!-- 39111 -->\n<g id=\"node10\" class=\"node\">\n<title>39111</title>\n<polygon fill=\"#fefcff\" stroke=\"black\" points=\"726,-140 496,-140 496,-72 726,-72 726,-140\"/>\n<text text-anchor=\"middle\" x=\"611\" y=\"-124.8\" font-family=\"Helvetica,sans-Serif\" font-size=\"14.00\">s5 &lt;= 0.5</text>\n<text text-anchor=\"middle\" x=\"611\" y=\"-109.8\" font-family=\"Helvetica,sans-Serif\" font-size=\"14.00\">samples = 2.4%</text>\n<text text-anchor=\"middle\" x=\"611\" y=\"-94.8\" font-family=\"Helvetica,sans-Serif\" font-size=\"14.00\">value = [0.114, 0.205, 0.336, 0.345]</text>\n<text text-anchor=\"middle\" x=\"611\" y=\"-79.8\" font-family=\"Helvetica,sans-Serif\" font-size=\"14.00\">class = Positive</text>\n</g>\n<!-- 39110&#45;&gt;39111 -->\n<g id=\"edge9\" class=\"edge\">\n<title>39110&#45;&gt;39111</title>\n<path fill=\"none\" stroke=\"black\" d=\"M611,-175.88C611,-167.78 611,-158.98 611,-150.47\"/>\n<polygon fill=\"black\" stroke=\"black\" points=\"614.5,-150.3 611,-140.3 607.5,-150.3 614.5,-150.3\"/>\n</g>\n<!-- 40076 -->\n<g id=\"node13\" class=\"node\">\n<title>40076</title>\n<polygon fill=\"#e787ef\" stroke=\"black\" points=\"966,-140 744,-140 744,-72 966,-72 966,-140\"/>\n<text text-anchor=\"middle\" x=\"855\" y=\"-124.8\" font-family=\"Helvetica,sans-Serif\" font-size=\"14.00\">wow &lt;= 0.5</text>\n<text text-anchor=\"middle\" x=\"855\" y=\"-109.8\" font-family=\"Helvetica,sans-Serif\" font-size=\"14.00\">samples = 0.2%</text>\n<text text-anchor=\"middle\" x=\"855\" y=\"-94.8\" font-family=\"Helvetica,sans-Serif\" font-size=\"14.00\">value = [0.044, 0.08, 0.195, 0.681]</text>\n<text text-anchor=\"middle\" x=\"855\" y=\"-79.8\" font-family=\"Helvetica,sans-Serif\" font-size=\"14.00\">class = Positive</text>\n</g>\n<!-- 39110&#45;&gt;40076 -->\n<g id=\"edge12\" class=\"edge\">\n<title>39110&#45;&gt;40076</title>\n<path fill=\"none\" stroke=\"black\" d=\"M690.22,-175.88C714.53,-165.72 741.43,-154.48 766.33,-144.07\"/>\n<polygon fill=\"black\" stroke=\"black\" points=\"767.88,-147.21 775.76,-140.12 765.18,-140.75 767.88,-147.21\"/>\n</g>\n<!-- 39112 -->\n<g id=\"node11\" class=\"node\">\n<title>39112</title>\n<polygon fill=\"#c0c0c0\" stroke=\"black\" points=\"602,-36 548,-36 548,0 602,0 602,-36\"/>\n<text text-anchor=\"middle\" x=\"575\" y=\"-14.3\" font-family=\"Helvetica,sans-Serif\" font-size=\"14.00\">(...)</text>\n</g>\n<!-- 39111&#45;&gt;39112 -->\n<g id=\"edge10\" class=\"edge\">\n<title>39111&#45;&gt;39112</title>\n<path fill=\"none\" stroke=\"black\" d=\"M597.18,-72C593.54,-63.28 589.64,-53.98 586.16,-45.65\"/>\n<polygon fill=\"black\" stroke=\"black\" points=\"589.38,-44.28 582.29,-36.4 582.92,-46.98 589.38,-44.28\"/>\n</g>\n<!-- 40075 -->\n<g id=\"node12\" class=\"node\">\n<title>40075</title>\n<polygon fill=\"#c0c0c0\" stroke=\"black\" points=\"674,-36 620,-36 620,0 674,0 674,-36\"/>\n<text text-anchor=\"middle\" x=\"647\" y=\"-14.3\" font-family=\"Helvetica,sans-Serif\" font-size=\"14.00\">(...)</text>\n</g>\n<!-- 39111&#45;&gt;40075 -->\n<g id=\"edge11\" class=\"edge\">\n<title>39111&#45;&gt;40075</title>\n<path fill=\"none\" stroke=\"black\" d=\"M624.82,-72C628.46,-63.28 632.36,-53.98 635.84,-45.65\"/>\n<polygon fill=\"black\" stroke=\"black\" points=\"639.08,-46.98 639.71,-36.4 632.62,-44.28 639.08,-46.98\"/>\n</g>\n<!-- 40077 -->\n<g id=\"node14\" class=\"node\">\n<title>40077</title>\n<polygon fill=\"#c0c0c0\" stroke=\"black\" points=\"846,-36 792,-36 792,0 846,0 846,-36\"/>\n<text text-anchor=\"middle\" x=\"819\" y=\"-14.3\" font-family=\"Helvetica,sans-Serif\" font-size=\"14.00\">(...)</text>\n</g>\n<!-- 40076&#45;&gt;40077 -->\n<g id=\"edge13\" class=\"edge\">\n<title>40076&#45;&gt;40077</title>\n<path fill=\"none\" stroke=\"black\" d=\"M841.18,-72C837.54,-63.28 833.64,-53.98 830.16,-45.65\"/>\n<polygon fill=\"black\" stroke=\"black\" points=\"833.38,-44.28 826.29,-36.4 826.92,-46.98 833.38,-44.28\"/>\n</g>\n<!-- 40136 -->\n<g id=\"node15\" class=\"node\">\n<title>40136</title>\n<polygon fill=\"#c0c0c0\" stroke=\"black\" points=\"918,-36 864,-36 864,0 918,0 918,-36\"/>\n<text text-anchor=\"middle\" x=\"891\" y=\"-14.3\" font-family=\"Helvetica,sans-Serif\" font-size=\"14.00\">(...)</text>\n</g>\n<!-- 40076&#45;&gt;40136 -->\n<g id=\"edge14\" class=\"edge\">\n<title>40076&#45;&gt;40136</title>\n<path fill=\"none\" stroke=\"black\" d=\"M868.82,-72C872.46,-63.28 876.36,-53.98 879.84,-45.65\"/>\n<polygon fill=\"black\" stroke=\"black\" points=\"883.08,-46.98 883.71,-36.4 876.62,-44.28 883.08,-46.98\"/>\n</g>\n</g>\n</svg>\n",
            "text/plain": [
              "<graphviz.sources.Source at 0x782f0df89330>"
            ]
          },
          "metadata": {}
        },
        {
          "output_type": "display_data",
          "data": {
            "image/svg+xml": "<?xml version=\"1.0\" encoding=\"UTF-8\" standalone=\"no\"?>\n<!DOCTYPE svg PUBLIC \"-//W3C//DTD SVG 1.1//EN\"\n \"http://www.w3.org/Graphics/SVG/1.1/DTD/svg11.dtd\">\n<!-- Generated by graphviz version 2.43.0 (0)\n -->\n<!-- Title: Tree Pages: 1 -->\n<svg width=\"922pt\" height=\"356pt\"\n viewBox=\"0.00 0.00 922.00 356.00\" xmlns=\"http://www.w3.org/2000/svg\" xmlns:xlink=\"http://www.w3.org/1999/xlink\">\n<g id=\"graph0\" class=\"graph\" transform=\"scale(1 1) rotate(0) translate(4 352)\">\n<title>Tree</title>\n<polygon fill=\"white\" stroke=\"transparent\" points=\"-4,4 -4,-352 918,-352 918,4 -4,4\"/>\n<!-- 0 -->\n<g id=\"node1\" class=\"node\">\n<title>0</title>\n<polygon fill=\"#f9fef9\" stroke=\"black\" points=\"602,-348 372,-348 372,-280 602,-280 602,-348\"/>\n<text text-anchor=\"middle\" x=\"487\" y=\"-332.8\" font-family=\"Helvetica,sans-Serif\" font-size=\"14.00\">super &lt;= 0.5</text>\n<text text-anchor=\"middle\" x=\"487\" y=\"-317.8\" font-family=\"Helvetica,sans-Serif\" font-size=\"14.00\">samples = 100.0%</text>\n<text text-anchor=\"middle\" x=\"487\" y=\"-302.8\" font-family=\"Helvetica,sans-Serif\" font-size=\"14.00\">value = [0.172, 0.301, 0.248, 0.279]</text>\n<text text-anchor=\"middle\" x=\"487\" y=\"-287.8\" font-family=\"Helvetica,sans-Serif\" font-size=\"14.00\">class = Negative</text>\n</g>\n<!-- 1 -->\n<g id=\"node2\" class=\"node\">\n<title>1</title>\n<polygon fill=\"#f9fef8\" stroke=\"black\" points=\"478,-244 248,-244 248,-176 478,-176 478,-244\"/>\n<text text-anchor=\"middle\" x=\"363\" y=\"-228.8\" font-family=\"Helvetica,sans-Serif\" font-size=\"14.00\">cs &lt;= 0.5</text>\n<text text-anchor=\"middle\" x=\"363\" y=\"-213.8\" font-family=\"Helvetica,sans-Serif\" font-size=\"14.00\">samples = 99.1%</text>\n<text text-anchor=\"middle\" x=\"363\" y=\"-198.8\" font-family=\"Helvetica,sans-Serif\" font-size=\"14.00\">value = [0.171, 0.303, 0.248, 0.278]</text>\n<text text-anchor=\"middle\" x=\"363\" y=\"-183.8\" font-family=\"Helvetica,sans-Serif\" font-size=\"14.00\">class = Negative</text>\n</g>\n<!-- 0&#45;&gt;1 -->\n<g id=\"edge1\" class=\"edge\">\n<title>0&#45;&gt;1</title>\n<path fill=\"none\" stroke=\"black\" d=\"M446.74,-279.88C435.48,-270.62 423.12,-260.45 411.44,-250.85\"/>\n<polygon fill=\"black\" stroke=\"black\" points=\"413.43,-247.95 403.48,-244.3 408.98,-253.36 413.43,-247.95\"/>\n<text text-anchor=\"middle\" x=\"405.9\" y=\"-265.48\" font-family=\"Helvetica,sans-Serif\" font-size=\"14.00\">True</text>\n</g>\n<!-- 41138 -->\n<g id=\"node9\" class=\"node\">\n<title>41138</title>\n<polygon fill=\"#f6d2f9\" stroke=\"black\" points=\"722,-244 500,-244 500,-176 722,-176 722,-244\"/>\n<text text-anchor=\"middle\" x=\"611\" y=\"-228.8\" font-family=\"Helvetica,sans-Serif\" font-size=\"14.00\">dumping &lt;= 0.5</text>\n<text text-anchor=\"middle\" x=\"611\" y=\"-213.8\" font-family=\"Helvetica,sans-Serif\" font-size=\"14.00\">samples = 0.9%</text>\n<text text-anchor=\"middle\" x=\"611\" y=\"-198.8\" font-family=\"Helvetica,sans-Serif\" font-size=\"14.00\">value = [0.188, 0.13, 0.255, 0.426]</text>\n<text text-anchor=\"middle\" x=\"611\" y=\"-183.8\" font-family=\"Helvetica,sans-Serif\" font-size=\"14.00\">class = Positive</text>\n</g>\n<!-- 0&#45;&gt;41138 -->\n<g id=\"edge8\" class=\"edge\">\n<title>0&#45;&gt;41138</title>\n<path fill=\"none\" stroke=\"black\" d=\"M527.26,-279.88C538.52,-270.62 550.88,-260.45 562.56,-250.85\"/>\n<polygon fill=\"black\" stroke=\"black\" points=\"565.02,-253.36 570.52,-244.3 560.57,-247.95 565.02,-253.36\"/>\n<text text-anchor=\"middle\" x=\"568.1\" y=\"-265.48\" font-family=\"Helvetica,sans-Serif\" font-size=\"14.00\">False</text>\n</g>\n<!-- 2 -->\n<g id=\"node3\" class=\"node\">\n<title>2</title>\n<polygon fill=\"#f8fef7\" stroke=\"black\" points=\"230,-140 0,-140 0,-72 230,-72 230,-140\"/>\n<text text-anchor=\"middle\" x=\"115\" y=\"-124.8\" font-family=\"Helvetica,sans-Serif\" font-size=\"14.00\">all &lt;= 0.5</text>\n<text text-anchor=\"middle\" x=\"115\" y=\"-109.8\" font-family=\"Helvetica,sans-Serif\" font-size=\"14.00\">samples = 98.4%</text>\n<text text-anchor=\"middle\" x=\"115\" y=\"-94.8\" font-family=\"Helvetica,sans-Serif\" font-size=\"14.00\">value = [0.171, 0.305, 0.247, 0.277]</text>\n<text text-anchor=\"middle\" x=\"115\" y=\"-79.8\" font-family=\"Helvetica,sans-Serif\" font-size=\"14.00\">class = Negative</text>\n</g>\n<!-- 1&#45;&gt;2 -->\n<g id=\"edge2\" class=\"edge\">\n<title>1&#45;&gt;2</title>\n<path fill=\"none\" stroke=\"black\" d=\"M282.48,-175.88C257.67,-165.68 230.19,-154.38 204.79,-143.93\"/>\n<polygon fill=\"black\" stroke=\"black\" points=\"206.12,-140.69 195.54,-140.12 203.46,-147.17 206.12,-140.69\"/>\n</g>\n<!-- 40883 -->\n<g id=\"node6\" class=\"node\">\n<title>40883</title>\n<polygon fill=\"#f8dcfa\" stroke=\"black\" points=\"478,-140 248,-140 248,-72 478,-72 478,-140\"/>\n<text text-anchor=\"middle\" x=\"363\" y=\"-124.8\" font-family=\"Helvetica,sans-Serif\" font-size=\"14.00\">highest &lt;= 0.5</text>\n<text text-anchor=\"middle\" x=\"363\" y=\"-109.8\" font-family=\"Helvetica,sans-Serif\" font-size=\"14.00\">samples = 0.7%</text>\n<text text-anchor=\"middle\" x=\"363\" y=\"-94.8\" font-family=\"Helvetica,sans-Serif\" font-size=\"14.00\">value = [0.237, 0.087, 0.274, 0.401]</text>\n<text text-anchor=\"middle\" x=\"363\" y=\"-79.8\" font-family=\"Helvetica,sans-Serif\" font-size=\"14.00\">class = Positive</text>\n</g>\n<!-- 1&#45;&gt;40883 -->\n<g id=\"edge5\" class=\"edge\">\n<title>1&#45;&gt;40883</title>\n<path fill=\"none\" stroke=\"black\" d=\"M363,-175.88C363,-167.78 363,-158.98 363,-150.47\"/>\n<polygon fill=\"black\" stroke=\"black\" points=\"366.5,-150.3 363,-140.3 359.5,-150.3 366.5,-150.3\"/>\n</g>\n<!-- 3 -->\n<g id=\"node4\" class=\"node\">\n<title>3</title>\n<polygon fill=\"#c0c0c0\" stroke=\"black\" points=\"106,-36 52,-36 52,0 106,0 106,-36\"/>\n<text text-anchor=\"middle\" x=\"79\" y=\"-14.3\" font-family=\"Helvetica,sans-Serif\" font-size=\"14.00\">(...)</text>\n</g>\n<!-- 2&#45;&gt;3 -->\n<g id=\"edge3\" class=\"edge\">\n<title>2&#45;&gt;3</title>\n<path fill=\"none\" stroke=\"black\" d=\"M101.18,-72C97.54,-63.28 93.64,-53.98 90.16,-45.65\"/>\n<polygon fill=\"black\" stroke=\"black\" points=\"93.38,-44.28 86.29,-36.4 86.92,-46.98 93.38,-44.28\"/>\n</g>\n<!-- 37736 -->\n<g id=\"node5\" class=\"node\">\n<title>37736</title>\n<polygon fill=\"#c0c0c0\" stroke=\"black\" points=\"178,-36 124,-36 124,0 178,0 178,-36\"/>\n<text text-anchor=\"middle\" x=\"151\" y=\"-14.3\" font-family=\"Helvetica,sans-Serif\" font-size=\"14.00\">(...)</text>\n</g>\n<!-- 2&#45;&gt;37736 -->\n<g id=\"edge4\" class=\"edge\">\n<title>2&#45;&gt;37736</title>\n<path fill=\"none\" stroke=\"black\" d=\"M128.82,-72C132.46,-63.28 136.36,-53.98 139.84,-45.65\"/>\n<polygon fill=\"black\" stroke=\"black\" points=\"143.08,-46.98 143.71,-36.4 136.62,-44.28 143.08,-46.98\"/>\n</g>\n<!-- 40884 -->\n<g id=\"node7\" class=\"node\">\n<title>40884</title>\n<polygon fill=\"#c0c0c0\" stroke=\"black\" points=\"354,-36 300,-36 300,0 354,0 354,-36\"/>\n<text text-anchor=\"middle\" x=\"327\" y=\"-14.3\" font-family=\"Helvetica,sans-Serif\" font-size=\"14.00\">(...)</text>\n</g>\n<!-- 40883&#45;&gt;40884 -->\n<g id=\"edge6\" class=\"edge\">\n<title>40883&#45;&gt;40884</title>\n<path fill=\"none\" stroke=\"black\" d=\"M349.18,-72C345.54,-63.28 341.64,-53.98 338.16,-45.65\"/>\n<polygon fill=\"black\" stroke=\"black\" points=\"341.38,-44.28 334.29,-36.4 334.92,-46.98 341.38,-44.28\"/>\n</g>\n<!-- 41137 -->\n<g id=\"node8\" class=\"node\">\n<title>41137</title>\n<polygon fill=\"#c0c0c0\" stroke=\"black\" points=\"426,-36 372,-36 372,0 426,0 426,-36\"/>\n<text text-anchor=\"middle\" x=\"399\" y=\"-14.3\" font-family=\"Helvetica,sans-Serif\" font-size=\"14.00\">(...)</text>\n</g>\n<!-- 40883&#45;&gt;41137 -->\n<g id=\"edge7\" class=\"edge\">\n<title>40883&#45;&gt;41137</title>\n<path fill=\"none\" stroke=\"black\" d=\"M376.82,-72C380.46,-63.28 384.36,-53.98 387.84,-45.65\"/>\n<polygon fill=\"black\" stroke=\"black\" points=\"391.08,-46.98 391.71,-36.4 384.62,-44.28 391.08,-46.98\"/>\n</g>\n<!-- 41139 -->\n<g id=\"node10\" class=\"node\">\n<title>41139</title>\n<polygon fill=\"#f6d1f9\" stroke=\"black\" points=\"726,-140 496,-140 496,-72 726,-72 726,-140\"/>\n<text text-anchor=\"middle\" x=\"611\" y=\"-124.8\" font-family=\"Helvetica,sans-Serif\" font-size=\"14.00\">wearables &lt;= 0.5</text>\n<text text-anchor=\"middle\" x=\"611\" y=\"-109.8\" font-family=\"Helvetica,sans-Serif\" font-size=\"14.00\">samples = 0.9%</text>\n<text text-anchor=\"middle\" x=\"611\" y=\"-94.8\" font-family=\"Helvetica,sans-Serif\" font-size=\"14.00\">value = [0.191, 0.118, 0.259, 0.432]</text>\n<text text-anchor=\"middle\" x=\"611\" y=\"-79.8\" font-family=\"Helvetica,sans-Serif\" font-size=\"14.00\">class = Positive</text>\n</g>\n<!-- 41138&#45;&gt;41139 -->\n<g id=\"edge9\" class=\"edge\">\n<title>41138&#45;&gt;41139</title>\n<path fill=\"none\" stroke=\"black\" d=\"M611,-175.88C611,-167.78 611,-158.98 611,-150.47\"/>\n<polygon fill=\"black\" stroke=\"black\" points=\"614.5,-150.3 611,-140.3 607.5,-150.3 614.5,-150.3\"/>\n</g>\n<!-- 41476 -->\n<g id=\"node13\" class=\"node\">\n<title>41476</title>\n<polygon fill=\"#47e539\" stroke=\"black\" points=\"914,-132.5 744,-132.5 744,-79.5 914,-79.5 914,-132.5\"/>\n<text text-anchor=\"middle\" x=\"829\" y=\"-117.3\" font-family=\"Helvetica,sans-Serif\" font-size=\"14.00\">samples = 0.0%</text>\n<text text-anchor=\"middle\" x=\"829\" y=\"-102.3\" font-family=\"Helvetica,sans-Serif\" font-size=\"14.00\">value = [0.0, 1.0, 0.0, 0.0]</text>\n<text text-anchor=\"middle\" x=\"829\" y=\"-87.3\" font-family=\"Helvetica,sans-Serif\" font-size=\"14.00\">class = Negative</text>\n</g>\n<!-- 41138&#45;&gt;41476 -->\n<g id=\"edge12\" class=\"edge\">\n<title>41138&#45;&gt;41476</title>\n<path fill=\"none\" stroke=\"black\" d=\"M681.78,-175.88C708.69,-163.29 739.17,-149.03 765.38,-136.77\"/>\n<polygon fill=\"black\" stroke=\"black\" points=\"766.88,-139.93 774.46,-132.52 763.92,-133.59 766.88,-139.93\"/>\n</g>\n<!-- 41140 -->\n<g id=\"node11\" class=\"node\">\n<title>41140</title>\n<polygon fill=\"#c0c0c0\" stroke=\"black\" points=\"602,-36 548,-36 548,0 602,0 602,-36\"/>\n<text text-anchor=\"middle\" x=\"575\" y=\"-14.3\" font-family=\"Helvetica,sans-Serif\" font-size=\"14.00\">(...)</text>\n</g>\n<!-- 41139&#45;&gt;41140 -->\n<g id=\"edge10\" class=\"edge\">\n<title>41139&#45;&gt;41140</title>\n<path fill=\"none\" stroke=\"black\" d=\"M597.18,-72C593.54,-63.28 589.64,-53.98 586.16,-45.65\"/>\n<polygon fill=\"black\" stroke=\"black\" points=\"589.38,-44.28 582.29,-36.4 582.92,-46.98 589.38,-44.28\"/>\n</g>\n<!-- 41475 -->\n<g id=\"node12\" class=\"node\">\n<title>41475</title>\n<polygon fill=\"#c0c0c0\" stroke=\"black\" points=\"674,-36 620,-36 620,0 674,0 674,-36\"/>\n<text text-anchor=\"middle\" x=\"647\" y=\"-14.3\" font-family=\"Helvetica,sans-Serif\" font-size=\"14.00\">(...)</text>\n</g>\n<!-- 41139&#45;&gt;41475 -->\n<g id=\"edge11\" class=\"edge\">\n<title>41139&#45;&gt;41475</title>\n<path fill=\"none\" stroke=\"black\" d=\"M624.82,-72C628.46,-63.28 632.36,-53.98 635.84,-45.65\"/>\n<polygon fill=\"black\" stroke=\"black\" points=\"639.08,-46.98 639.71,-36.4 632.62,-44.28 639.08,-46.98\"/>\n</g>\n</g>\n</svg>\n",
            "text/plain": [
              "<graphviz.sources.Source at 0x782f3d67e890>"
            ]
          },
          "metadata": {}
        },
        {
          "output_type": "display_data",
          "data": {
            "image/svg+xml": "<?xml version=\"1.0\" encoding=\"UTF-8\" standalone=\"no\"?>\n<!DOCTYPE svg PUBLIC \"-//W3C//DTD SVG 1.1//EN\"\n \"http://www.w3.org/Graphics/SVG/1.1/DTD/svg11.dtd\">\n<!-- Generated by graphviz version 2.43.0 (0)\n -->\n<!-- Title: Tree Pages: 1 -->\n<svg width=\"903pt\" height=\"356pt\"\n viewBox=\"0.00 0.00 903.00 356.00\" xmlns=\"http://www.w3.org/2000/svg\" xmlns:xlink=\"http://www.w3.org/1999/xlink\">\n<g id=\"graph0\" class=\"graph\" transform=\"scale(1 1) rotate(0) translate(4 352)\">\n<title>Tree</title>\n<polygon fill=\"white\" stroke=\"transparent\" points=\"-4,4 -4,-352 899,-352 899,4 -4,4\"/>\n<!-- 0 -->\n<g id=\"node1\" class=\"node\">\n<title>0</title>\n<polygon fill=\"#f8fef7\" stroke=\"black\" points=\"594,-348 364,-348 364,-280 594,-280 594,-348\"/>\n<text text-anchor=\"middle\" x=\"479\" y=\"-332.8\" font-family=\"Helvetica,sans-Serif\" font-size=\"14.00\">news &lt;= 0.5</text>\n<text text-anchor=\"middle\" x=\"479\" y=\"-317.8\" font-family=\"Helvetica,sans-Serif\" font-size=\"14.00\">samples = 100.0%</text>\n<text text-anchor=\"middle\" x=\"479\" y=\"-302.8\" font-family=\"Helvetica,sans-Serif\" font-size=\"14.00\">value = [0.175, 0.306, 0.241, 0.279]</text>\n<text text-anchor=\"middle\" x=\"479\" y=\"-287.8\" font-family=\"Helvetica,sans-Serif\" font-size=\"14.00\">class = Negative</text>\n</g>\n<!-- 1 -->\n<g id=\"node2\" class=\"node\">\n<title>1</title>\n<polygon fill=\"#f8fef7\" stroke=\"black\" points=\"468,-244 246,-244 246,-176 468,-176 468,-244\"/>\n<text text-anchor=\"middle\" x=\"357\" y=\"-228.8\" font-family=\"Helvetica,sans-Serif\" font-size=\"14.00\">today &lt;= 0.5</text>\n<text text-anchor=\"middle\" x=\"357\" y=\"-213.8\" font-family=\"Helvetica,sans-Serif\" font-size=\"14.00\">samples = 98.5%</text>\n<text text-anchor=\"middle\" x=\"357\" y=\"-198.8\" font-family=\"Helvetica,sans-Serif\" font-size=\"14.00\">value = [0.176, 0.308, 0.236, 0.28]</text>\n<text text-anchor=\"middle\" x=\"357\" y=\"-183.8\" font-family=\"Helvetica,sans-Serif\" font-size=\"14.00\">class = Negative</text>\n</g>\n<!-- 0&#45;&gt;1 -->\n<g id=\"edge1\" class=\"edge\">\n<title>0&#45;&gt;1</title>\n<path fill=\"none\" stroke=\"black\" d=\"M439.39,-279.88C428.31,-270.62 416.15,-260.45 404.66,-250.85\"/>\n<polygon fill=\"black\" stroke=\"black\" points=\"406.75,-248.03 396.83,-244.3 402.26,-253.4 406.75,-248.03\"/>\n<text text-anchor=\"middle\" x=\"399.05\" y=\"-265.5\" font-family=\"Helvetica,sans-Serif\" font-size=\"14.00\">True</text>\n</g>\n<!-- 40028 -->\n<g id=\"node9\" class=\"node\">\n<title>40028</title>\n<polygon fill=\"#a3d1f3\" stroke=\"black\" points=\"716,-244 486,-244 486,-176 716,-176 716,-244\"/>\n<text text-anchor=\"middle\" x=\"601\" y=\"-228.8\" font-family=\"Helvetica,sans-Serif\" font-size=\"14.00\">exciting &lt;= 0.5</text>\n<text text-anchor=\"middle\" x=\"601\" y=\"-213.8\" font-family=\"Helvetica,sans-Serif\" font-size=\"14.00\">samples = 1.5%</text>\n<text text-anchor=\"middle\" x=\"601\" y=\"-198.8\" font-family=\"Helvetica,sans-Serif\" font-size=\"14.00\">value = [0.096, 0.187, 0.565, 0.153]</text>\n<text text-anchor=\"middle\" x=\"601\" y=\"-183.8\" font-family=\"Helvetica,sans-Serif\" font-size=\"14.00\">class = Neutral</text>\n</g>\n<!-- 0&#45;&gt;40028 -->\n<g id=\"edge8\" class=\"edge\">\n<title>0&#45;&gt;40028</title>\n<path fill=\"none\" stroke=\"black\" d=\"M518.61,-279.88C529.69,-270.62 541.85,-260.45 553.34,-250.85\"/>\n<polygon fill=\"black\" stroke=\"black\" points=\"555.74,-253.4 561.17,-244.3 551.25,-248.03 555.74,-253.4\"/>\n<text text-anchor=\"middle\" x=\"558.95\" y=\"-265.5\" font-family=\"Helvetica,sans-Serif\" font-size=\"14.00\">False</text>\n</g>\n<!-- 2 -->\n<g id=\"node3\" class=\"node\">\n<title>2</title>\n<polygon fill=\"#f7fef6\" stroke=\"black\" points=\"230,-140 0,-140 0,-72 230,-72 230,-140\"/>\n<text text-anchor=\"middle\" x=\"115\" y=\"-124.8\" font-family=\"Helvetica,sans-Serif\" font-size=\"14.00\">creed &lt;= 0.5</text>\n<text text-anchor=\"middle\" x=\"115\" y=\"-109.8\" font-family=\"Helvetica,sans-Serif\" font-size=\"14.00\">samples = 96.5%</text>\n<text text-anchor=\"middle\" x=\"115\" y=\"-94.8\" font-family=\"Helvetica,sans-Serif\" font-size=\"14.00\">value = [0.175, 0.311, 0.235, 0.279]</text>\n<text text-anchor=\"middle\" x=\"115\" y=\"-79.8\" font-family=\"Helvetica,sans-Serif\" font-size=\"14.00\">class = Negative</text>\n</g>\n<!-- 1&#45;&gt;2 -->\n<g id=\"edge2\" class=\"edge\">\n<title>1&#45;&gt;2</title>\n<path fill=\"none\" stroke=\"black\" d=\"M278.43,-175.88C254.32,-165.72 227.64,-154.48 202.95,-144.07\"/>\n<polygon fill=\"black\" stroke=\"black\" points=\"204.16,-140.78 193.59,-140.12 201.45,-147.23 204.16,-140.78\"/>\n</g>\n<!-- 39257 -->\n<g id=\"node6\" class=\"node\">\n<title>39257</title>\n<polygon fill=\"#fbecfd\" stroke=\"black\" points=\"470,-140 248,-140 248,-72 470,-72 470,-140\"/>\n<text text-anchor=\"middle\" x=\"359\" y=\"-124.8\" font-family=\"Helvetica,sans-Serif\" font-size=\"14.00\">mobile &lt;= 0.5</text>\n<text text-anchor=\"middle\" x=\"359\" y=\"-109.8\" font-family=\"Helvetica,sans-Serif\" font-size=\"14.00\">samples = 2.0%</text>\n<text text-anchor=\"middle\" x=\"359\" y=\"-94.8\" font-family=\"Helvetica,sans-Serif\" font-size=\"14.00\">value = [0.22, 0.179, 0.266, 0.335]</text>\n<text text-anchor=\"middle\" x=\"359\" y=\"-79.8\" font-family=\"Helvetica,sans-Serif\" font-size=\"14.00\">class = Positive</text>\n</g>\n<!-- 1&#45;&gt;39257 -->\n<g id=\"edge5\" class=\"edge\">\n<title>1&#45;&gt;39257</title>\n<path fill=\"none\" stroke=\"black\" d=\"M357.65,-175.88C357.81,-167.78 357.98,-158.98 358.15,-150.47\"/>\n<polygon fill=\"black\" stroke=\"black\" points=\"361.65,-150.37 358.35,-140.3 354.65,-150.23 361.65,-150.37\"/>\n</g>\n<!-- 3 -->\n<g id=\"node4\" class=\"node\">\n<title>3</title>\n<polygon fill=\"#c0c0c0\" stroke=\"black\" points=\"106,-36 52,-36 52,0 106,0 106,-36\"/>\n<text text-anchor=\"middle\" x=\"79\" y=\"-14.3\" font-family=\"Helvetica,sans-Serif\" font-size=\"14.00\">(...)</text>\n</g>\n<!-- 2&#45;&gt;3 -->\n<g id=\"edge3\" class=\"edge\">\n<title>2&#45;&gt;3</title>\n<path fill=\"none\" stroke=\"black\" d=\"M101.18,-72C97.54,-63.28 93.64,-53.98 90.16,-45.65\"/>\n<polygon fill=\"black\" stroke=\"black\" points=\"93.38,-44.28 86.29,-36.4 86.92,-46.98 93.38,-44.28\"/>\n</g>\n<!-- 38900 -->\n<g id=\"node5\" class=\"node\">\n<title>38900</title>\n<polygon fill=\"#c0c0c0\" stroke=\"black\" points=\"178,-36 124,-36 124,0 178,0 178,-36\"/>\n<text text-anchor=\"middle\" x=\"151\" y=\"-14.3\" font-family=\"Helvetica,sans-Serif\" font-size=\"14.00\">(...)</text>\n</g>\n<!-- 2&#45;&gt;38900 -->\n<g id=\"edge4\" class=\"edge\">\n<title>2&#45;&gt;38900</title>\n<path fill=\"none\" stroke=\"black\" d=\"M128.82,-72C132.46,-63.28 136.36,-53.98 139.84,-45.65\"/>\n<polygon fill=\"black\" stroke=\"black\" points=\"143.08,-46.98 143.71,-36.4 136.62,-44.28 143.08,-46.98\"/>\n</g>\n<!-- 39258 -->\n<g id=\"node7\" class=\"node\">\n<title>39258</title>\n<polygon fill=\"#c0c0c0\" stroke=\"black\" points=\"350,-36 296,-36 296,0 350,0 350,-36\"/>\n<text text-anchor=\"middle\" x=\"323\" y=\"-14.3\" font-family=\"Helvetica,sans-Serif\" font-size=\"14.00\">(...)</text>\n</g>\n<!-- 39257&#45;&gt;39258 -->\n<g id=\"edge6\" class=\"edge\">\n<title>39257&#45;&gt;39258</title>\n<path fill=\"none\" stroke=\"black\" d=\"M345.18,-72C341.54,-63.28 337.64,-53.98 334.16,-45.65\"/>\n<polygon fill=\"black\" stroke=\"black\" points=\"337.38,-44.28 330.29,-36.4 330.92,-46.98 337.38,-44.28\"/>\n</g>\n<!-- 40027 -->\n<g id=\"node8\" class=\"node\">\n<title>40027</title>\n<polygon fill=\"#c0c0c0\" stroke=\"black\" points=\"422,-36 368,-36 368,0 422,0 422,-36\"/>\n<text text-anchor=\"middle\" x=\"395\" y=\"-14.3\" font-family=\"Helvetica,sans-Serif\" font-size=\"14.00\">(...)</text>\n</g>\n<!-- 39257&#45;&gt;40027 -->\n<g id=\"edge7\" class=\"edge\">\n<title>39257&#45;&gt;40027</title>\n<path fill=\"none\" stroke=\"black\" d=\"M372.82,-72C376.46,-63.28 380.36,-53.98 383.84,-45.65\"/>\n<polygon fill=\"black\" stroke=\"black\" points=\"387.08,-46.98 387.71,-36.4 380.62,-44.28 387.08,-46.98\"/>\n</g>\n<!-- 40029 -->\n<g id=\"node10\" class=\"node\">\n<title>40029</title>\n<polygon fill=\"#a1d1f3\" stroke=\"black\" points=\"706.5,-140 491.5,-140 491.5,-72 706.5,-72 706.5,-140\"/>\n<text text-anchor=\"middle\" x=\"599\" y=\"-124.8\" font-family=\"Helvetica,sans-Serif\" font-size=\"14.00\">no &lt;= 1.5</text>\n<text text-anchor=\"middle\" x=\"599\" y=\"-109.8\" font-family=\"Helvetica,sans-Serif\" font-size=\"14.00\">samples = 1.5%</text>\n<text text-anchor=\"middle\" x=\"599\" y=\"-94.8\" font-family=\"Helvetica,sans-Serif\" font-size=\"14.00\">value = [0.097, 0.19, 0.573, 0.14]</text>\n<text text-anchor=\"middle\" x=\"599\" y=\"-79.8\" font-family=\"Helvetica,sans-Serif\" font-size=\"14.00\">class = Neutral</text>\n</g>\n<!-- 40028&#45;&gt;40029 -->\n<g id=\"edge9\" class=\"edge\">\n<title>40028&#45;&gt;40029</title>\n<path fill=\"none\" stroke=\"black\" d=\"M600.35,-175.88C600.19,-167.78 600.02,-158.98 599.85,-150.47\"/>\n<polygon fill=\"black\" stroke=\"black\" points=\"603.35,-150.23 599.65,-140.3 596.35,-150.37 603.35,-150.23\"/>\n</g>\n<!-- 40564 -->\n<g id=\"node13\" class=\"node\">\n<title>40564</title>\n<polygon fill=\"#d739e5\" stroke=\"black\" points=\"895,-132.5 725,-132.5 725,-79.5 895,-79.5 895,-132.5\"/>\n<text text-anchor=\"middle\" x=\"810\" y=\"-117.3\" font-family=\"Helvetica,sans-Serif\" font-size=\"14.00\">samples = 0.0%</text>\n<text text-anchor=\"middle\" x=\"810\" y=\"-102.3\" font-family=\"Helvetica,sans-Serif\" font-size=\"14.00\">value = [0.0, 0.0, 0.0, 1.0]</text>\n<text text-anchor=\"middle\" x=\"810\" y=\"-87.3\" font-family=\"Helvetica,sans-Serif\" font-size=\"14.00\">class = Positive</text>\n</g>\n<!-- 40028&#45;&gt;40564 -->\n<g id=\"edge12\" class=\"edge\">\n<title>40028&#45;&gt;40564</title>\n<path fill=\"none\" stroke=\"black\" d=\"M668.86,-175.88C694.55,-163.35 723.62,-149.16 748.67,-136.93\"/>\n<polygon fill=\"black\" stroke=\"black\" points=\"750.26,-140.05 757.71,-132.52 747.19,-133.76 750.26,-140.05\"/>\n</g>\n<!-- 40030 -->\n<g id=\"node11\" class=\"node\">\n<title>40030</title>\n<polygon fill=\"#c0c0c0\" stroke=\"black\" points=\"590,-36 536,-36 536,0 590,0 590,-36\"/>\n<text text-anchor=\"middle\" x=\"563\" y=\"-14.3\" font-family=\"Helvetica,sans-Serif\" font-size=\"14.00\">(...)</text>\n</g>\n<!-- 40029&#45;&gt;40030 -->\n<g id=\"edge10\" class=\"edge\">\n<title>40029&#45;&gt;40030</title>\n<path fill=\"none\" stroke=\"black\" d=\"M585.18,-72C581.54,-63.28 577.64,-53.98 574.16,-45.65\"/>\n<polygon fill=\"black\" stroke=\"black\" points=\"577.38,-44.28 570.29,-36.4 570.92,-46.98 577.38,-44.28\"/>\n</g>\n<!-- 40563 -->\n<g id=\"node12\" class=\"node\">\n<title>40563</title>\n<polygon fill=\"#c0c0c0\" stroke=\"black\" points=\"662,-36 608,-36 608,0 662,0 662,-36\"/>\n<text text-anchor=\"middle\" x=\"635\" y=\"-14.3\" font-family=\"Helvetica,sans-Serif\" font-size=\"14.00\">(...)</text>\n</g>\n<!-- 40029&#45;&gt;40563 -->\n<g id=\"edge11\" class=\"edge\">\n<title>40029&#45;&gt;40563</title>\n<path fill=\"none\" stroke=\"black\" d=\"M612.82,-72C616.46,-63.28 620.36,-53.98 623.84,-45.65\"/>\n<polygon fill=\"black\" stroke=\"black\" points=\"627.08,-46.98 627.71,-36.4 620.62,-44.28 627.08,-46.98\"/>\n</g>\n</g>\n</svg>\n",
            "text/plain": [
              "<graphviz.sources.Source at 0x782f0df2db40>"
            ]
          },
          "metadata": {}
        }
      ]
    },
    {
      "cell_type": "markdown",
      "source": [
        "-----------------------------------\n",
        "Using Naive Bayes MultinomialNB"
      ],
      "metadata": {
        "id": "jr4nN2rDXzGI"
      }
    },
    {
      "cell_type": "code",
      "source": [
        "# create a Multinomial Naive Bayes Classifier object\n",
        "mnb = MultinomialNB(force_alpha=True)\n",
        "\n",
        "# fit the classifier to the training data\n",
        "mnb.fit(x_train_encode, y_train)"
      ],
      "metadata": {
        "colab": {
          "base_uri": "https://localhost:8080/",
          "height": 75
        },
        "id": "SA6x4t8fXx8n",
        "outputId": "b0681d00-ac37-4f8e-ca02-ddb4d43e418a"
      },
      "execution_count": 208,
      "outputs": [
        {
          "output_type": "execute_result",
          "data": {
            "text/plain": [
              "MultinomialNB(force_alpha=True)"
            ],
            "text/html": [
              "<style>#sk-container-id-6 {color: black;background-color: white;}#sk-container-id-6 pre{padding: 0;}#sk-container-id-6 div.sk-toggleable {background-color: white;}#sk-container-id-6 label.sk-toggleable__label {cursor: pointer;display: block;width: 100%;margin-bottom: 0;padding: 0.3em;box-sizing: border-box;text-align: center;}#sk-container-id-6 label.sk-toggleable__label-arrow:before {content: \"▸\";float: left;margin-right: 0.25em;color: #696969;}#sk-container-id-6 label.sk-toggleable__label-arrow:hover:before {color: black;}#sk-container-id-6 div.sk-estimator:hover label.sk-toggleable__label-arrow:before {color: black;}#sk-container-id-6 div.sk-toggleable__content {max-height: 0;max-width: 0;overflow: hidden;text-align: left;background-color: #f0f8ff;}#sk-container-id-6 div.sk-toggleable__content pre {margin: 0.2em;color: black;border-radius: 0.25em;background-color: #f0f8ff;}#sk-container-id-6 input.sk-toggleable__control:checked~div.sk-toggleable__content {max-height: 200px;max-width: 100%;overflow: auto;}#sk-container-id-6 input.sk-toggleable__control:checked~label.sk-toggleable__label-arrow:before {content: \"▾\";}#sk-container-id-6 div.sk-estimator input.sk-toggleable__control:checked~label.sk-toggleable__label {background-color: #d4ebff;}#sk-container-id-6 div.sk-label input.sk-toggleable__control:checked~label.sk-toggleable__label {background-color: #d4ebff;}#sk-container-id-6 input.sk-hidden--visually {border: 0;clip: rect(1px 1px 1px 1px);clip: rect(1px, 1px, 1px, 1px);height: 1px;margin: -1px;overflow: hidden;padding: 0;position: absolute;width: 1px;}#sk-container-id-6 div.sk-estimator {font-family: monospace;background-color: #f0f8ff;border: 1px dotted black;border-radius: 0.25em;box-sizing: border-box;margin-bottom: 0.5em;}#sk-container-id-6 div.sk-estimator:hover {background-color: #d4ebff;}#sk-container-id-6 div.sk-parallel-item::after {content: \"\";width: 100%;border-bottom: 1px solid gray;flex-grow: 1;}#sk-container-id-6 div.sk-label:hover label.sk-toggleable__label {background-color: #d4ebff;}#sk-container-id-6 div.sk-serial::before {content: \"\";position: absolute;border-left: 1px solid gray;box-sizing: border-box;top: 0;bottom: 0;left: 50%;z-index: 0;}#sk-container-id-6 div.sk-serial {display: flex;flex-direction: column;align-items: center;background-color: white;padding-right: 0.2em;padding-left: 0.2em;position: relative;}#sk-container-id-6 div.sk-item {position: relative;z-index: 1;}#sk-container-id-6 div.sk-parallel {display: flex;align-items: stretch;justify-content: center;background-color: white;position: relative;}#sk-container-id-6 div.sk-item::before, #sk-container-id-6 div.sk-parallel-item::before {content: \"\";position: absolute;border-left: 1px solid gray;box-sizing: border-box;top: 0;bottom: 0;left: 50%;z-index: -1;}#sk-container-id-6 div.sk-parallel-item {display: flex;flex-direction: column;z-index: 1;position: relative;background-color: white;}#sk-container-id-6 div.sk-parallel-item:first-child::after {align-self: flex-end;width: 50%;}#sk-container-id-6 div.sk-parallel-item:last-child::after {align-self: flex-start;width: 50%;}#sk-container-id-6 div.sk-parallel-item:only-child::after {width: 0;}#sk-container-id-6 div.sk-dashed-wrapped {border: 1px dashed gray;margin: 0 0.4em 0.5em 0.4em;box-sizing: border-box;padding-bottom: 0.4em;background-color: white;}#sk-container-id-6 div.sk-label label {font-family: monospace;font-weight: bold;display: inline-block;line-height: 1.2em;}#sk-container-id-6 div.sk-label-container {text-align: center;}#sk-container-id-6 div.sk-container {/* jupyter's `normalize.less` sets `[hidden] { display: none; }` but bootstrap.min.css set `[hidden] { display: none !important; }` so we also need the `!important` here to be able to override the default hidden behavior on the sphinx rendered scikit-learn.org. See: https://github.com/scikit-learn/scikit-learn/issues/21755 */display: inline-block !important;position: relative;}#sk-container-id-6 div.sk-text-repr-fallback {display: none;}</style><div id=\"sk-container-id-6\" class=\"sk-top-container\"><div class=\"sk-text-repr-fallback\"><pre>MultinomialNB(force_alpha=True)</pre><b>In a Jupyter environment, please rerun this cell to show the HTML representation or trust the notebook. <br />On GitHub, the HTML representation is unable to render, please try loading this page with nbviewer.org.</b></div><div class=\"sk-container\" hidden><div class=\"sk-item\"><div class=\"sk-estimator sk-toggleable\"><input class=\"sk-toggleable__control sk-hidden--visually\" id=\"sk-estimator-id-8\" type=\"checkbox\" checked><label for=\"sk-estimator-id-8\" class=\"sk-toggleable__label sk-toggleable__label-arrow\">MultinomialNB</label><div class=\"sk-toggleable__content\"><pre>MultinomialNB(force_alpha=True)</pre></div></div></div></div></div>"
            ]
          },
          "metadata": {},
          "execution_count": 208
        }
      ]
    },
    {
      "cell_type": "code",
      "source": [
        "# Calculate the accuracy using Multinomial model and the test data\n",
        "mnb_test_predict = mnb.predict(x_test_encode)\n",
        "\n",
        "accuracy = accuracy_score(y_test, mnb_test_predict)\n",
        "print(\"Accuracy:\", accuracy)"
      ],
      "metadata": {
        "colab": {
          "base_uri": "https://localhost:8080/"
        },
        "id": "FvXlksggY4c8",
        "outputId": "2842037a-f6dc-4bf5-a03e-bff21f87da74"
      },
      "execution_count": 209,
      "outputs": [
        {
          "output_type": "stream",
          "name": "stdout",
          "text": [
            "Accuracy: 0.7518243243243243\n"
          ]
        }
      ]
    },
    {
      "cell_type": "code",
      "source": [
        "# calculate the accuracy of the classifier using the validation dataset\n",
        "mnb_val_pred = mnb.predict(x_val_encode)\n",
        "accuracy = accuracy_score(y_val_test, val_pred)\n",
        "print(f\"Accuracy: {accuracy}\")"
      ],
      "metadata": {
        "colab": {
          "base_uri": "https://localhost:8080/"
        },
        "id": "e4esPNRfZaZQ",
        "outputId": "40daba6a-d538-4e54-aeb4-cb23ff0741d8"
      },
      "execution_count": 201,
      "outputs": [
        {
          "output_type": "stream",
          "name": "stdout",
          "text": [
            "Accuracy: 0.967\n"
          ]
        }
      ]
    },
    {
      "cell_type": "code",
      "execution_count": 189,
      "metadata": {
        "id": "bQ3I4xF3D87M"
      },
      "outputs": [],
      "source": [
        "import joblib"
      ]
    },
    {
      "cell_type": "code",
      "execution_count": 190,
      "metadata": {
        "colab": {
          "base_uri": "https://localhost:8080/"
        },
        "id": "WlZCOK25EBKm",
        "outputId": "c2e3297b-d134-43d4-e4bb-927db997e7f5"
      },
      "outputs": [
        {
          "output_type": "execute_result",
          "data": {
            "text/plain": [
              "['rfc_sentiment_model.joblib']"
            ]
          },
          "metadata": {},
          "execution_count": 190
        }
      ],
      "source": [
        "filename = 'rfc_sentiment_model.joblib'\n",
        "joblib.dump(rfc, filename)"
      ]
    },
    {
      "cell_type": "code",
      "execution_count": 191,
      "metadata": {
        "colab": {
          "base_uri": "https://localhost:8080/"
        },
        "id": "J-Tqj_NyFEJX",
        "outputId": "61893da8-8d4e-4e4a-b80d-bf92e1616fab"
      },
      "outputs": [
        {
          "output_type": "stream",
          "name": "stdout",
          "text": [
            "Mounted at /content/drive\n"
          ]
        },
        {
          "output_type": "execute_result",
          "data": {
            "text/plain": [
              "['/content/drive/My Drive/rfc_sentiment_model.joblib']"
            ]
          },
          "metadata": {},
          "execution_count": 191
        }
      ],
      "source": [
        "from google.colab import drive\n",
        "drive.mount('/content/drive')\n",
        "\n",
        "# save the model to Google Drive\n",
        "filename = '/content/drive/My Drive/rfc_sentiment_model.joblib'\n",
        "joblib.dump(rfc, filename)"
      ]
    },
    {
      "cell_type": "code",
      "execution_count": 192,
      "metadata": {
        "colab": {
          "base_uri": "https://localhost:8080/"
        },
        "id": "u_55aG2JHnY0",
        "outputId": "1967df1d-25fe-442a-8659-26dc71caea25"
      },
      "outputs": [
        {
          "output_type": "execute_result",
          "data": {
            "text/plain": [
              "['/content/drive/My Drive/rfc_vectorizer.joblib']"
            ]
          },
          "metadata": {},
          "execution_count": 192
        }
      ],
      "source": [
        "filename = '/content/drive/My Drive/rfc_vectorizer.joblib'\n",
        "joblib.dump(vectorizer, filename)"
      ]
    },
    {
      "cell_type": "code",
      "execution_count": 193,
      "metadata": {
        "colab": {
          "base_uri": "https://localhost:8080/"
        },
        "id": "JhYOUkL4HymV",
        "outputId": "7b92bc5e-c8be-4a5c-c377-a49a9059e17e"
      },
      "outputs": [
        {
          "output_type": "execute_result",
          "data": {
            "text/plain": [
              "['rfc_vectorizer.joblib']"
            ]
          },
          "metadata": {},
          "execution_count": 193
        }
      ],
      "source": [
        "filename = 'rfc_vectorizer.joblib'\n",
        "joblib.dump(vectorizer, filename)"
      ]
    },
    {
      "cell_type": "code",
      "execution_count": null,
      "metadata": {
        "colab": {
          "base_uri": "https://localhost:8080/"
        },
        "id": "jRJu0qHWH29M",
        "outputId": "73ac06ec-f2d7-4834-b142-57e369c77305"
      },
      "outputs": [
        {
          "data": {
            "text/plain": [
              "['/content/drive/My Drive/rfc_encoder.joblib']"
            ]
          },
          "execution_count": 33,
          "metadata": {},
          "output_type": "execute_result"
        }
      ],
      "source": [
        "filename = '/content/drive/My Drive/rfc_encoder.joblib'\n",
        "joblib.dump(encoder, filename)"
      ]
    },
    {
      "cell_type": "code",
      "execution_count": null,
      "metadata": {
        "colab": {
          "base_uri": "https://localhost:8080/"
        },
        "id": "jh1STFcCH_Nu",
        "outputId": "06af05f6-4e63-447d-f890-fd683d85d09d"
      },
      "outputs": [
        {
          "data": {
            "text/plain": [
              "['rfc_encoder.joblib']"
            ]
          },
          "execution_count": 34,
          "metadata": {},
          "output_type": "execute_result"
        }
      ],
      "source": [
        "filename = 'rfc_encoder.joblib'\n",
        "joblib.dump(encoder, filename)"
      ]
    }
  ],
  "metadata": {
    "colab": {
      "provenance": []
    },
    "kernelspec": {
      "display_name": "Python 3",
      "name": "python3"
    },
    "language_info": {
      "codemirror_mode": {
        "name": "ipython",
        "version": 3
      },
      "file_extension": ".py",
      "mimetype": "text/x-python",
      "name": "python",
      "nbconvert_exporter": "python",
      "pygments_lexer": "ipython3",
      "version": "3.11.3"
    }
  },
  "nbformat": 4,
  "nbformat_minor": 0
}